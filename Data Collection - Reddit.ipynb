{
 "cells": [
  {
   "cell_type": "code",
   "execution_count": 1,
   "metadata": {},
   "outputs": [],
   "source": [
    "# import libraries\n",
    "\n",
    "import praw\n",
    "import pandas as pd\n",
    "import os\n",
    "import time\n",
    "from dotenv import load_dotenv"
   ]
  },
  {
   "cell_type": "code",
   "execution_count": 2,
   "metadata": {},
   "outputs": [],
   "source": [
    "# load environment variables\n",
    "load_dotenv()\n",
    "\n",
    "# read environment variables\n",
    "client_id = os.getenv(\"REDDIT_CLIENT_ID\")\n",
    "client_secret = os.getenv(\"REDDIT_CLIENT_SECRET\")\n",
    "user_agent = os.getenv(\"REDDIT_USER_AGENT\")"
   ]
  },
  {
   "cell_type": "code",
   "execution_count": 3,
   "metadata": {},
   "outputs": [],
   "source": [
    "# create reddit instance\n",
    "reddit = praw.Reddit(client_id=client_id, client_secret=client_secret, user_agent=user_agent)"
   ]
  },
  {
   "cell_type": "code",
   "execution_count": 4,
   "metadata": {},
   "outputs": [],
   "source": [
    "rphilippines = reddit.subreddit('philippines')"
   ]
  },
  {
   "cell_type": "code",
   "execution_count": 10,
   "metadata": {},
   "outputs": [],
   "source": [
    "data = pd.DataFrame(columns=['id', 'title', 'score', 'subreddit', 'url', 'num_comments', 'body', 'created']).set_index('id')"
   ]
  },
  {
   "cell_type": "code",
   "execution_count": 16,
   "metadata": {},
   "outputs": [],
   "source": [
    "def get_submissions(data, subreddit, keyword, limit):\n",
    "        \n",
    "    try:\n",
    "        for submission in subreddit.search(keyword, limit=limit, syntax='cloudsearch'):\n",
    "            data.loc[submission.id] = [submission.title, submission.score, submission.subreddit, submission.url, submission.num_comments, submission.selftext, submission.created]\n",
    "    except praw.exceptions.RedditAPIException as e:\n",
    "        if e.error_type == 'RATELIMIT':\n",
    "            delay_seconds = int(e.message.split(' ')[-1])\n",
    "            print(f'Hit rate limit. Sleeping for {delay_seconds} seconds.')\n",
    "            time.sleep(delay_seconds + 1)\n",
    "        else:\n",
    "            raise\n",
    "    \n",
    "    return data"
   ]
  },
  {
   "cell_type": "code",
   "execution_count": 17,
   "metadata": {},
   "outputs": [],
   "source": [
    "# get submissions\n",
    "data = get_submissions(data, rphilippines, 'sinovac', 10000)"
   ]
  },
  {
   "cell_type": "code",
   "execution_count": 18,
   "metadata": {},
   "outputs": [
    {
     "data": {
      "text/plain": [
       "(238, 7)"
      ]
     },
     "execution_count": 18,
     "metadata": {},
     "output_type": "execute_result"
    }
   ],
   "source": [
    "data.shape"
   ]
  },
  {
   "cell_type": "code",
   "execution_count": 19,
   "metadata": {},
   "outputs": [],
   "source": [
    "data = get_submissions(data, rphilippines, 'pfizer', 10000)"
   ]
  },
  {
   "cell_type": "code",
   "execution_count": 21,
   "metadata": {},
   "outputs": [],
   "source": [
    "data = get_submissions(data, rphilippines, 'moderna', 10000)"
   ]
  },
  {
   "cell_type": "code",
   "execution_count": 23,
   "metadata": {},
   "outputs": [],
   "source": [
    "data = get_submissions(data, rphilippines, 'astrazeneca', 10000)"
   ]
  },
  {
   "cell_type": "code",
   "execution_count": 24,
   "metadata": {},
   "outputs": [],
   "source": [
    "data = get_submissions(data, rphilippines, 'J and J', 10000)"
   ]
  },
  {
   "cell_type": "code",
   "execution_count": 25,
   "metadata": {},
   "outputs": [],
   "source": [
    "data = get_submissions(data, rphilippines, 'vaccine', 10000)"
   ]
  },
  {
   "cell_type": "code",
   "execution_count": 26,
   "metadata": {},
   "outputs": [],
   "source": [
    "data = get_submissions(data, rphilippines, 'vaccination', 10000)"
   ]
  },
  {
   "cell_type": "code",
   "execution_count": 27,
   "metadata": {},
   "outputs": [],
   "source": [
    "keywords = [\n",
    "    'COVID vaccine Philippines',\n",
    "    'Vaccine hesitancy Philippines',\n",
    "    'Sinovac Philippines',\n",
    "    'Pfizer Philippines',\n",
    "    'Moderna Philippines',\n",
    "    'AstraZeneca Philippines',\n",
    "    'Vaccination rollout Philippines',\n",
    "    'Vaccine efficacy Philippines',\n",
    "    'Vaccine safety Philippines',\n",
    "    'Vaccination program Philippines',\n",
    "    'Vaccine side effects Philippines',\n",
    "    'Vaccination drive Philippines',\n",
    "    'COVID vaccination Philippines',\n",
    "    'Vaccine misinformation Philippines',\n",
    "    'Vaccine skepticism Philippines',\n",
    "    'Vaccine mandates Philippines',\n",
    "    'Vaccine distribution Philippines',\n",
    "    'Vaccination campaign Philippines',\n",
    "    '#COVIDVaccinePH',\n",
    "    '#VaccinePH',\n",
    "    '#GetVaccinatedPH',\n",
    "    '#VaccineForAllPH',\n",
    "    '#VaccineRolloutPH',\n",
    "    '#VaccineSafetyPH',\n",
    "    '#VaccineEfficiencyPH'\n",
    "]\n",
    "\n",
    "for kw in keywords:\n",
    "    data = get_submissions(data, rphilippines, kw, 10000)"
   ]
  },
  {
   "cell_type": "code",
   "execution_count": 28,
   "metadata": {},
   "outputs": [],
   "source": [
    "# save data\n",
    "data.to_csv('reddit_posts_data.csv')"
   ]
  },
  {
   "cell_type": "code",
   "execution_count": 29,
   "metadata": {},
   "outputs": [
    {
     "data": {
      "text/html": [
       "<div>\n",
       "<style scoped>\n",
       "    .dataframe tbody tr th:only-of-type {\n",
       "        vertical-align: middle;\n",
       "    }\n",
       "\n",
       "    .dataframe tbody tr th {\n",
       "        vertical-align: top;\n",
       "    }\n",
       "\n",
       "    .dataframe thead th {\n",
       "        text-align: right;\n",
       "    }\n",
       "</style>\n",
       "<table border=\"1\" class=\"dataframe\">\n",
       "  <thead>\n",
       "    <tr style=\"text-align: right;\">\n",
       "      <th></th>\n",
       "      <th>title</th>\n",
       "      <th>score</th>\n",
       "      <th>subreddit</th>\n",
       "      <th>url</th>\n",
       "      <th>num_comments</th>\n",
       "      <th>body</th>\n",
       "      <th>created</th>\n",
       "    </tr>\n",
       "    <tr>\n",
       "      <th>id</th>\n",
       "      <th></th>\n",
       "      <th></th>\n",
       "      <th></th>\n",
       "      <th></th>\n",
       "      <th></th>\n",
       "      <th></th>\n",
       "      <th></th>\n",
       "    </tr>\n",
       "  </thead>\n",
       "  <tbody>\n",
       "    <tr>\n",
       "      <th>mcv85r</th>\n",
       "      <td>'Wala pa': Duterte says Philippines yet to buy...</td>\n",
       "      <td>10</td>\n",
       "      <td>Philippines</td>\n",
       "      <td>https://news.abs-cbn.com/news/03/24/21/wala-pa...</td>\n",
       "      <td>10</td>\n",
       "      <td></td>\n",
       "      <td>1.616669e+09</td>\n",
       "    </tr>\n",
       "    <tr>\n",
       "      <th>mcnyrc</th>\n",
       "      <td>'Wala pa': Duterte says Philippines yet to buy...</td>\n",
       "      <td>19</td>\n",
       "      <td>Philippines</td>\n",
       "      <td>https://news.abs-cbn.com/news/03/24/21/wala-pa...</td>\n",
       "      <td>15</td>\n",
       "      <td></td>\n",
       "      <td>1.616640e+09</td>\n",
       "    </tr>\n",
       "    <tr>\n",
       "      <th>nkje4i</th>\n",
       "      <td>Covid made the Philippines' hunger crisis wors...</td>\n",
       "      <td>27</td>\n",
       "      <td>Philippines</td>\n",
       "      <td>https://www.cnn.com/2021/05/24/asia/philippine...</td>\n",
       "      <td>16</td>\n",
       "      <td></td>\n",
       "      <td>1.621926e+09</td>\n",
       "    </tr>\n",
       "    <tr>\n",
       "      <th>nzcv9o</th>\n",
       "      <td>Covid made the Philippines' hunger crisis wors...</td>\n",
       "      <td>3</td>\n",
       "      <td>Philippines</td>\n",
       "      <td>https://edition.cnn.com/2021/05/24/asia/philip...</td>\n",
       "      <td>4</td>\n",
       "      <td></td>\n",
       "      <td>1.623639e+09</td>\n",
       "    </tr>\n",
       "    <tr>\n",
       "      <th>kkw5bc</th>\n",
       "      <td>Duterte to US: Deliver COVID-19 vaccine to PH ...</td>\n",
       "      <td>1</td>\n",
       "      <td>Philippines</td>\n",
       "      <td>https://news.abs-cbn.com/news/12/27/20/duterte...</td>\n",
       "      <td>8</td>\n",
       "      <td></td>\n",
       "      <td>1.609039e+09</td>\n",
       "    </tr>\n",
       "    <tr>\n",
       "      <th>kkx6kf</th>\n",
       "      <td>Duterte to US: Deliver COVID-19 vaccine to PH ...</td>\n",
       "      <td>13</td>\n",
       "      <td>Philippines</td>\n",
       "      <td>https://i.redd.it/1dr57cbyqn761.jpg</td>\n",
       "      <td>25</td>\n",
       "      <td></td>\n",
       "      <td>1.609044e+09</td>\n",
       "    </tr>\n",
       "    <tr>\n",
       "      <th>j01ti7</th>\n",
       "      <td>FDA says 'best case scenario' of COVID-19 vacc...</td>\n",
       "      <td>3</td>\n",
       "      <td>Philippines</td>\n",
       "      <td>https://www.rappler.com/nation/fda-says-covid-...</td>\n",
       "      <td>1</td>\n",
       "      <td></td>\n",
       "      <td>1.601106e+09</td>\n",
       "    </tr>\n",
       "    <tr>\n",
       "      <th>izg5jl</th>\n",
       "      <td>FDA says 'best case scenario' of COVID-19 vacc...</td>\n",
       "      <td>0</td>\n",
       "      <td>Philippines</td>\n",
       "      <td>https://www.rappler.com/nation/fda-says-covid-...</td>\n",
       "      <td>3</td>\n",
       "      <td></td>\n",
       "      <td>1.601024e+09</td>\n",
       "    </tr>\n",
       "    <tr>\n",
       "      <th>kpm4z5</th>\n",
       "      <td>PH seeks $300-M World Bank loan to buy COVID v...</td>\n",
       "      <td>22</td>\n",
       "      <td>Philippines</td>\n",
       "      <td>https://newsinfo.inquirer.net/1378725/ph-seeks...</td>\n",
       "      <td>2</td>\n",
       "      <td></td>\n",
       "      <td>1.609687e+09</td>\n",
       "    </tr>\n",
       "    <tr>\n",
       "      <th>kpb81x</th>\n",
       "      <td>PH seeks $300-M World Bank loan to buy COVID v...</td>\n",
       "      <td>7</td>\n",
       "      <td>Philippines</td>\n",
       "      <td>https://newsinfo.inquirer.net/1378725/ph-seeks...</td>\n",
       "      <td>6</td>\n",
       "      <td></td>\n",
       "      <td>1.609640e+09</td>\n",
       "    </tr>\n",
       "    <tr>\n",
       "      <th>mrjbsf</th>\n",
       "      <td>Philippines Asks U.S. for Vaccine Help as Chin...</td>\n",
       "      <td>20</td>\n",
       "      <td>Philippines</td>\n",
       "      <td>https://www.bloomberg.com/news/articles/2021-0...</td>\n",
       "      <td>4</td>\n",
       "      <td></td>\n",
       "      <td>1.618507e+09</td>\n",
       "    </tr>\n",
       "    <tr>\n",
       "      <th>mpqpib</th>\n",
       "      <td>Philippines Asks U.S. for Vaccine Help as Chin...</td>\n",
       "      <td>14</td>\n",
       "      <td>Philippines</td>\n",
       "      <td>https://www.bloomberg.com/news/articles/2021-0...</td>\n",
       "      <td>17</td>\n",
       "      <td></td>\n",
       "      <td>1.618272e+09</td>\n",
       "    </tr>\n",
       "    <tr>\n",
       "      <th>mp6tuv</th>\n",
       "      <td>Philippines Asks U.S. for Vaccine Help as Chin...</td>\n",
       "      <td>23</td>\n",
       "      <td>Philippines</td>\n",
       "      <td>https://www.bloombergquint.com/politics/philip...</td>\n",
       "      <td>12</td>\n",
       "      <td></td>\n",
       "      <td>1.618202e+09</td>\n",
       "    </tr>\n",
       "    <tr>\n",
       "      <th>npybif</th>\n",
       "      <td>Thailand's first AstraZeneca vaccine exports t...</td>\n",
       "      <td>8</td>\n",
       "      <td>Philippines</td>\n",
       "      <td>https://www.reuters.com/world/asia-pacific/fir...</td>\n",
       "      <td>2</td>\n",
       "      <td></td>\n",
       "      <td>1.622566e+09</td>\n",
       "    </tr>\n",
       "    <tr>\n",
       "      <th>npv91q</th>\n",
       "      <td>Thailand's first AstraZeneca vaccine exports t...</td>\n",
       "      <td>5</td>\n",
       "      <td>Philippines</td>\n",
       "      <td>https://www.reuters.com/world/asia-pacific/fir...</td>\n",
       "      <td>3</td>\n",
       "      <td></td>\n",
       "      <td>1.622558e+09</td>\n",
       "    </tr>\n",
       "    <tr>\n",
       "      <th>kjsrqi</th>\n",
       "      <td>Turkey says China's Sinovac COVID vaccine 91.2...</td>\n",
       "      <td>7</td>\n",
       "      <td>Philippines</td>\n",
       "      <td>https://www.reuters.com/article/us-health-coro...</td>\n",
       "      <td>1</td>\n",
       "      <td></td>\n",
       "      <td>1.608869e+09</td>\n",
       "    </tr>\n",
       "    <tr>\n",
       "      <th>kljedk</th>\n",
       "      <td>Turkey says China's Sinovac COVID vaccine 91.2...</td>\n",
       "      <td>0</td>\n",
       "      <td>Philippines</td>\n",
       "      <td>https://www.reuters.com/article/us-health-coro...</td>\n",
       "      <td>6</td>\n",
       "      <td></td>\n",
       "      <td>1.609131e+09</td>\n",
       "    </tr>\n",
       "    <tr>\n",
       "      <th>kjqkhj</th>\n",
       "      <td>Turkey says China's Sinovac COVID vaccine 91.2...</td>\n",
       "      <td>15</td>\n",
       "      <td>Philippines</td>\n",
       "      <td>https://www.reuters.com/article/us-health-coro...</td>\n",
       "      <td>5</td>\n",
       "      <td></td>\n",
       "      <td>1.608859e+09</td>\n",
       "    </tr>\n",
       "    <tr>\n",
       "      <th>mf04f8</th>\n",
       "      <td>Vaccine Line-Jumping in the Philippines Is Get...</td>\n",
       "      <td>107</td>\n",
       "      <td>Philippines</td>\n",
       "      <td>https://www.vice.com/en/article/dy8njq/vaccine...</td>\n",
       "      <td>12</td>\n",
       "      <td></td>\n",
       "      <td>1.616933e+09</td>\n",
       "    </tr>\n",
       "    <tr>\n",
       "      <th>mdp1bn</th>\n",
       "      <td>Vaccine Line-Jumping in the Philippines Is Get...</td>\n",
       "      <td>61</td>\n",
       "      <td>Philippines</td>\n",
       "      <td>https://www.vice.com/en/article/dy8njq/vaccine...</td>\n",
       "      <td>28</td>\n",
       "      <td></td>\n",
       "      <td>1.616766e+09</td>\n",
       "    </tr>\n",
       "  </tbody>\n",
       "</table>\n",
       "</div>"
      ],
      "text/plain": [
       "                                                    title  score    subreddit   \n",
       "id                                                                              \n",
       "mcv85r  'Wala pa': Duterte says Philippines yet to buy...     10  Philippines  \\\n",
       "mcnyrc  'Wala pa': Duterte says Philippines yet to buy...     19  Philippines   \n",
       "nkje4i  Covid made the Philippines' hunger crisis wors...     27  Philippines   \n",
       "nzcv9o  Covid made the Philippines' hunger crisis wors...      3  Philippines   \n",
       "kkw5bc  Duterte to US: Deliver COVID-19 vaccine to PH ...      1  Philippines   \n",
       "kkx6kf  Duterte to US: Deliver COVID-19 vaccine to PH ...     13  Philippines   \n",
       "j01ti7  FDA says 'best case scenario' of COVID-19 vacc...      3  Philippines   \n",
       "izg5jl  FDA says 'best case scenario' of COVID-19 vacc...      0  Philippines   \n",
       "kpm4z5  PH seeks $300-M World Bank loan to buy COVID v...     22  Philippines   \n",
       "kpb81x  PH seeks $300-M World Bank loan to buy COVID v...      7  Philippines   \n",
       "mrjbsf  Philippines Asks U.S. for Vaccine Help as Chin...     20  Philippines   \n",
       "mpqpib  Philippines Asks U.S. for Vaccine Help as Chin...     14  Philippines   \n",
       "mp6tuv  Philippines Asks U.S. for Vaccine Help as Chin...     23  Philippines   \n",
       "npybif  Thailand's first AstraZeneca vaccine exports t...      8  Philippines   \n",
       "npv91q  Thailand's first AstraZeneca vaccine exports t...      5  Philippines   \n",
       "kjsrqi  Turkey says China's Sinovac COVID vaccine 91.2...      7  Philippines   \n",
       "kljedk  Turkey says China's Sinovac COVID vaccine 91.2...      0  Philippines   \n",
       "kjqkhj  Turkey says China's Sinovac COVID vaccine 91.2...     15  Philippines   \n",
       "mf04f8  Vaccine Line-Jumping in the Philippines Is Get...    107  Philippines   \n",
       "mdp1bn  Vaccine Line-Jumping in the Philippines Is Get...     61  Philippines   \n",
       "\n",
       "                                                      url  num_comments body   \n",
       "id                                                                             \n",
       "mcv85r  https://news.abs-cbn.com/news/03/24/21/wala-pa...            10       \\\n",
       "mcnyrc  https://news.abs-cbn.com/news/03/24/21/wala-pa...            15        \n",
       "nkje4i  https://www.cnn.com/2021/05/24/asia/philippine...            16        \n",
       "nzcv9o  https://edition.cnn.com/2021/05/24/asia/philip...             4        \n",
       "kkw5bc  https://news.abs-cbn.com/news/12/27/20/duterte...             8        \n",
       "kkx6kf                https://i.redd.it/1dr57cbyqn761.jpg            25        \n",
       "j01ti7  https://www.rappler.com/nation/fda-says-covid-...             1        \n",
       "izg5jl  https://www.rappler.com/nation/fda-says-covid-...             3        \n",
       "kpm4z5  https://newsinfo.inquirer.net/1378725/ph-seeks...             2        \n",
       "kpb81x  https://newsinfo.inquirer.net/1378725/ph-seeks...             6        \n",
       "mrjbsf  https://www.bloomberg.com/news/articles/2021-0...             4        \n",
       "mpqpib  https://www.bloomberg.com/news/articles/2021-0...            17        \n",
       "mp6tuv  https://www.bloombergquint.com/politics/philip...            12        \n",
       "npybif  https://www.reuters.com/world/asia-pacific/fir...             2        \n",
       "npv91q  https://www.reuters.com/world/asia-pacific/fir...             3        \n",
       "kjsrqi  https://www.reuters.com/article/us-health-coro...             1        \n",
       "kljedk  https://www.reuters.com/article/us-health-coro...             6        \n",
       "kjqkhj  https://www.reuters.com/article/us-health-coro...             5        \n",
       "mf04f8  https://www.vice.com/en/article/dy8njq/vaccine...            12        \n",
       "mdp1bn  https://www.vice.com/en/article/dy8njq/vaccine...            28        \n",
       "\n",
       "             created  \n",
       "id                    \n",
       "mcv85r  1.616669e+09  \n",
       "mcnyrc  1.616640e+09  \n",
       "nkje4i  1.621926e+09  \n",
       "nzcv9o  1.623639e+09  \n",
       "kkw5bc  1.609039e+09  \n",
       "kkx6kf  1.609044e+09  \n",
       "j01ti7  1.601106e+09  \n",
       "izg5jl  1.601024e+09  \n",
       "kpm4z5  1.609687e+09  \n",
       "kpb81x  1.609640e+09  \n",
       "mrjbsf  1.618507e+09  \n",
       "mpqpib  1.618272e+09  \n",
       "mp6tuv  1.618202e+09  \n",
       "npybif  1.622566e+09  \n",
       "npv91q  1.622558e+09  \n",
       "kjsrqi  1.608869e+09  \n",
       "kljedk  1.609131e+09  \n",
       "kjqkhj  1.608859e+09  \n",
       "mf04f8  1.616933e+09  \n",
       "mdp1bn  1.616766e+09  "
      ]
     },
     "execution_count": 29,
     "metadata": {},
     "output_type": "execute_result"
    }
   ],
   "source": [
    "# check duplicates\n",
    "data[data.duplicated(subset=['title', 'body'], keep=False)].sort_values(by='title')"
   ]
  },
  {
   "cell_type": "code",
   "execution_count": 30,
   "metadata": {},
   "outputs": [],
   "source": [
    "# drop duplicates\n",
    "data.drop_duplicates(subset=['title', 'body'], keep='first', inplace=True)"
   ]
  },
  {
   "cell_type": "code",
   "execution_count": 37,
   "metadata": {},
   "outputs": [
    {
     "data": {
      "text/plain": [
       "Index(['title', 'score', 'subreddit', 'url', 'num_comments', 'body',\n",
       "       'created'],\n",
       "      dtype='object')"
      ]
     },
     "execution_count": 37,
     "metadata": {},
     "output_type": "execute_result"
    }
   ],
   "source": [
    "data.columns"
   ]
  },
  {
   "cell_type": "code",
   "execution_count": 36,
   "metadata": {},
   "outputs": [
    {
     "data": {
      "text/html": [
       "<div>\n",
       "<style scoped>\n",
       "    .dataframe tbody tr th:only-of-type {\n",
       "        vertical-align: middle;\n",
       "    }\n",
       "\n",
       "    .dataframe tbody tr th {\n",
       "        vertical-align: top;\n",
       "    }\n",
       "\n",
       "    .dataframe thead th {\n",
       "        text-align: right;\n",
       "    }\n",
       "</style>\n",
       "<table border=\"1\" class=\"dataframe\">\n",
       "  <thead>\n",
       "    <tr style=\"text-align: right;\">\n",
       "      <th></th>\n",
       "      <th>title</th>\n",
       "      <th>score</th>\n",
       "      <th>subreddit</th>\n",
       "      <th>url</th>\n",
       "      <th>num_comments</th>\n",
       "      <th>body</th>\n",
       "      <th>created</th>\n",
       "    </tr>\n",
       "    <tr>\n",
       "      <th>id</th>\n",
       "      <th></th>\n",
       "      <th></th>\n",
       "      <th></th>\n",
       "      <th></th>\n",
       "      <th></th>\n",
       "      <th></th>\n",
       "      <th></th>\n",
       "    </tr>\n",
       "  </thead>\n",
       "  <tbody>\n",
       "    <tr>\n",
       "      <th>lw0grz</th>\n",
       "      <td>AMA: I am an HCW who received their first dose...</td>\n",
       "      <td>1092</td>\n",
       "      <td>Philippines</td>\n",
       "      <td>https://www.reddit.com/r/Philippines/comments/...</td>\n",
       "      <td>397</td>\n",
       "      <td>Edit - 5 hour solo AMA grabe.  Thanks to all t...</td>\n",
       "      <td>1.614687e+09</td>\n",
       "    </tr>\n",
       "    <tr>\n",
       "      <th>p2fwha</th>\n",
       "      <td>Sinovac worked, I guess</td>\n",
       "      <td>163</td>\n",
       "      <td>Philippines</td>\n",
       "      <td>https://www.reddit.com/r/Philippines/comments/...</td>\n",
       "      <td>96</td>\n",
       "      <td>My brother's friend, fully vaccinated with Sin...</td>\n",
       "      <td>1.628697e+09</td>\n",
       "    </tr>\n",
       "    <tr>\n",
       "      <th>kv06lx</th>\n",
       "      <td>Harry Roque has just reiterated multiple times...</td>\n",
       "      <td>562</td>\n",
       "      <td>Philippines</td>\n",
       "      <td>https://www.reddit.com/r/Philippines/comments/...</td>\n",
       "      <td>153</td>\n",
       "      <td>I have had enough! Bastusan na talaga ito. \\n\\...</td>\n",
       "      <td>1.610361e+09</td>\n",
       "    </tr>\n",
       "    <tr>\n",
       "      <th>mrch5k</th>\n",
       "      <td>Efficacy of Sinovac's CoronaVac vaccine</td>\n",
       "      <td>215</td>\n",
       "      <td>Philippines</td>\n",
       "      <td>https://www.reddit.com/r/Philippines/comments/...</td>\n",
       "      <td>68</td>\n",
       "      <td>There has been a lot of conflicting reports on...</td>\n",
       "      <td>1.618485e+09</td>\n",
       "    </tr>\n",
       "    <tr>\n",
       "      <th>mecovq</th>\n",
       "      <td>AMA 2: I'm an HCW who received Sinovac COVID19...</td>\n",
       "      <td>94</td>\n",
       "      <td>Philippines</td>\n",
       "      <td>https://www.reddit.com/r/Philippines/comments/...</td>\n",
       "      <td>145</td>\n",
       "      <td>Previous AMA: [https://www.reddit.com/r/Philip...</td>\n",
       "      <td>1.616847e+09</td>\n",
       "    </tr>\n",
       "    <tr>\n",
       "      <th>...</th>\n",
       "      <td>...</td>\n",
       "      <td>...</td>\n",
       "      <td>...</td>\n",
       "      <td>...</td>\n",
       "      <td>...</td>\n",
       "      <td>...</td>\n",
       "      <td>...</td>\n",
       "    </tr>\n",
       "    <tr>\n",
       "      <th>lrvb8f</th>\n",
       "      <td>Mon Tulfo Full Transcript interview about his ...</td>\n",
       "      <td>4</td>\n",
       "      <td>Philippines</td>\n",
       "      <td>https://www.reddit.com/r/Philippines/comments/...</td>\n",
       "      <td>1</td>\n",
       "      <td>The entire transcript can be read here: [https...</td>\n",
       "      <td>1.614220e+09</td>\n",
       "    </tr>\n",
       "    <tr>\n",
       "      <th>hjcrwl</th>\n",
       "      <td>Longshot, but anyone here not able to see thei...</td>\n",
       "      <td>0</td>\n",
       "      <td>Philippines</td>\n",
       "      <td>https://www.reddit.com/r/Philippines/comments/...</td>\n",
       "      <td>2</td>\n",
       "      <td>To clarify, I totally understand why we have t...</td>\n",
       "      <td>1.593618e+09</td>\n",
       "    </tr>\n",
       "    <tr>\n",
       "      <th>6sz7fb</th>\n",
       "      <td>Planning to buy a puppy</td>\n",
       "      <td>2</td>\n",
       "      <td>Philippines</td>\n",
       "      <td>https://www.reddit.com/r/Philippines/comments/...</td>\n",
       "      <td>24</td>\n",
       "      <td>Hi dog owners of r/Ph! Tanong ko lang if masya...</td>\n",
       "      <td>1.502430e+09</td>\n",
       "    </tr>\n",
       "    <tr>\n",
       "      <th>gd372h</th>\n",
       "      <td>If only Duterte had acted on his initial insti...</td>\n",
       "      <td>0</td>\n",
       "      <td>Philippines</td>\n",
       "      <td>https://www.reddit.com/r/Philippines/comments/...</td>\n",
       "      <td>21</td>\n",
       "      <td>\"It is really the world has passed on many kin...</td>\n",
       "      <td>1.588559e+09</td>\n",
       "    </tr>\n",
       "    <tr>\n",
       "      <th>kly9jn</th>\n",
       "      <td>Who can currently travel to the Philippines? M...</td>\n",
       "      <td>5</td>\n",
       "      <td>Philippines</td>\n",
       "      <td>https://www.reddit.com/r/Philippines/comments/...</td>\n",
       "      <td>1</td>\n",
       "      <td>I have seen as of 12/28 on the US Philippine E...</td>\n",
       "      <td>1.609187e+09</td>\n",
       "    </tr>\n",
       "  </tbody>\n",
       "</table>\n",
       "<p>487 rows × 7 columns</p>\n",
       "</div>"
      ],
      "text/plain": [
       "                                                    title  score    subreddit   \n",
       "id                                                                              \n",
       "lw0grz  AMA: I am an HCW who received their first dose...   1092  Philippines  \\\n",
       "p2fwha                            Sinovac worked, I guess    163  Philippines   \n",
       "kv06lx  Harry Roque has just reiterated multiple times...    562  Philippines   \n",
       "mrch5k            Efficacy of Sinovac's CoronaVac vaccine    215  Philippines   \n",
       "mecovq  AMA 2: I'm an HCW who received Sinovac COVID19...     94  Philippines   \n",
       "...                                                   ...    ...          ...   \n",
       "lrvb8f  Mon Tulfo Full Transcript interview about his ...      4  Philippines   \n",
       "hjcrwl  Longshot, but anyone here not able to see thei...      0  Philippines   \n",
       "6sz7fb                            Planning to buy a puppy      2  Philippines   \n",
       "gd372h  If only Duterte had acted on his initial insti...      0  Philippines   \n",
       "kly9jn  Who can currently travel to the Philippines? M...      5  Philippines   \n",
       "\n",
       "                                                      url  num_comments   \n",
       "id                                                                        \n",
       "lw0grz  https://www.reddit.com/r/Philippines/comments/...           397  \\\n",
       "p2fwha  https://www.reddit.com/r/Philippines/comments/...            96   \n",
       "kv06lx  https://www.reddit.com/r/Philippines/comments/...           153   \n",
       "mrch5k  https://www.reddit.com/r/Philippines/comments/...            68   \n",
       "mecovq  https://www.reddit.com/r/Philippines/comments/...           145   \n",
       "...                                                   ...           ...   \n",
       "lrvb8f  https://www.reddit.com/r/Philippines/comments/...             1   \n",
       "hjcrwl  https://www.reddit.com/r/Philippines/comments/...             2   \n",
       "6sz7fb  https://www.reddit.com/r/Philippines/comments/...            24   \n",
       "gd372h  https://www.reddit.com/r/Philippines/comments/...            21   \n",
       "kly9jn  https://www.reddit.com/r/Philippines/comments/...             1   \n",
       "\n",
       "                                                     body       created  \n",
       "id                                                                       \n",
       "lw0grz  Edit - 5 hour solo AMA grabe.  Thanks to all t...  1.614687e+09  \n",
       "p2fwha  My brother's friend, fully vaccinated with Sin...  1.628697e+09  \n",
       "kv06lx  I have had enough! Bastusan na talaga ito. \\n\\...  1.610361e+09  \n",
       "mrch5k  There has been a lot of conflicting reports on...  1.618485e+09  \n",
       "mecovq  Previous AMA: [https://www.reddit.com/r/Philip...  1.616847e+09  \n",
       "...                                                   ...           ...  \n",
       "lrvb8f  The entire transcript can be read here: [https...  1.614220e+09  \n",
       "hjcrwl  To clarify, I totally understand why we have t...  1.593618e+09  \n",
       "6sz7fb  Hi dog owners of r/Ph! Tanong ko lang if masya...  1.502430e+09  \n",
       "gd372h  \"It is really the world has passed on many kin...  1.588559e+09  \n",
       "kly9jn  I have seen as of 12/28 on the US Philippine E...  1.609187e+09  \n",
       "\n",
       "[487 rows x 7 columns]"
      ]
     },
     "execution_count": 36,
     "metadata": {},
     "output_type": "execute_result"
    }
   ],
   "source": [
    "# Check if the body is empty\n",
    "data[data['body'] != '']"
   ]
  },
  {
   "cell_type": "code",
   "execution_count": 45,
   "metadata": {},
   "outputs": [],
   "source": [
    "# extract all the comments from the submission\n",
    "def get_submission_comments(submission_id):\n",
    "    submission = reddit.submission(id=submission_id)\n",
    "    submission.comments.replace_more(limit=None) # Replace \"MoreComments\" objects with actual comments\n",
    "    comments = []\n",
    "    for comment in submission.comments:\n",
    "        comments.append(comment)\n",
    "        comments.extend(comment.replies)\n",
    "    return comments"
   ]
  },
  {
   "cell_type": "code",
   "execution_count": 61,
   "metadata": {},
   "outputs": [],
   "source": [
    "# convert comments to dataframe\n",
    "\n",
    "comments_data = pd.DataFrame(columns=['id', 'body', 'score', 'created']).set_index('id')"
   ]
  },
  {
   "cell_type": "code",
   "execution_count": 62,
   "metadata": {},
   "outputs": [
    {
     "ename": "KeyboardInterrupt",
     "evalue": "",
     "output_type": "error",
     "traceback": [
      "\u001b[1;31m---------------------------------------------------------------------------\u001b[0m",
      "\u001b[1;31mKeyboardInterrupt\u001b[0m                         Traceback (most recent call last)",
      "Cell \u001b[1;32mIn[62], line 9\u001b[0m\n\u001b[0;32m      7\u001b[0m \u001b[39mwhile\u001b[39;00m \u001b[39mTrue\u001b[39;00m:\n\u001b[0;32m      8\u001b[0m     \u001b[39mtry\u001b[39;00m:\n\u001b[1;32m----> 9\u001b[0m         comments \u001b[39m=\u001b[39m get_submission_comments(submission_id)\n\u001b[0;32m     10\u001b[0m         \u001b[39mbreak\u001b[39;00m\n\u001b[0;32m     11\u001b[0m     \u001b[39mexcept\u001b[39;00m (praw\u001b[39m.\u001b[39mexceptions\u001b[39m.\u001b[39mAPIException, prawcore\u001b[39m.\u001b[39mexceptions\u001b[39m.\u001b[39mServerError) \u001b[39mas\u001b[39;00m e:\n",
      "Cell \u001b[1;32mIn[45], line 4\u001b[0m, in \u001b[0;36mget_submission_comments\u001b[1;34m(submission_id)\u001b[0m\n\u001b[0;32m      2\u001b[0m \u001b[39mdef\u001b[39;00m \u001b[39mget_submission_comments\u001b[39m(submission_id):\n\u001b[0;32m      3\u001b[0m     submission \u001b[39m=\u001b[39m reddit\u001b[39m.\u001b[39msubmission(\u001b[39mid\u001b[39m\u001b[39m=\u001b[39msubmission_id)\n\u001b[1;32m----> 4\u001b[0m     submission\u001b[39m.\u001b[39;49mcomments\u001b[39m.\u001b[39mreplace_more(limit\u001b[39m=\u001b[39m\u001b[39mNone\u001b[39;00m) \u001b[39m# Replace \"MoreComments\" objects with actual comments\u001b[39;00m\n\u001b[0;32m      5\u001b[0m     comments \u001b[39m=\u001b[39m []\n\u001b[0;32m      6\u001b[0m     \u001b[39mfor\u001b[39;00m comment \u001b[39min\u001b[39;00m submission\u001b[39m.\u001b[39mcomments:\n",
      "File \u001b[1;32mc:\\Users\\AJ Jhones Lacubtan\\.virtualenvs\\Sentiment-CzZnRBUX\\Lib\\site-packages\\praw\\models\\reddit\\base.py:34\u001b[0m, in \u001b[0;36mRedditBase.__getattr__\u001b[1;34m(self, attribute)\u001b[0m\n\u001b[0;32m     32\u001b[0m \u001b[39m\u001b[39m\u001b[39m\"\"\"Return the value of ``attribute``.\"\"\"\u001b[39;00m\n\u001b[0;32m     33\u001b[0m \u001b[39mif\u001b[39;00m \u001b[39mnot\u001b[39;00m attribute\u001b[39m.\u001b[39mstartswith(\u001b[39m\"\u001b[39m\u001b[39m_\u001b[39m\u001b[39m\"\u001b[39m) \u001b[39mand\u001b[39;00m \u001b[39mnot\u001b[39;00m \u001b[39mself\u001b[39m\u001b[39m.\u001b[39m_fetched:\n\u001b[1;32m---> 34\u001b[0m     \u001b[39mself\u001b[39;49m\u001b[39m.\u001b[39;49m_fetch()\n\u001b[0;32m     35\u001b[0m     \u001b[39mreturn\u001b[39;00m \u001b[39mgetattr\u001b[39m(\u001b[39mself\u001b[39m, attribute)\n\u001b[0;32m     36\u001b[0m \u001b[39mraise\u001b[39;00m \u001b[39mAttributeError\u001b[39;00m(\n\u001b[0;32m     37\u001b[0m     \u001b[39mf\u001b[39m\u001b[39m\"\u001b[39m\u001b[39m{\u001b[39;00m\u001b[39mself\u001b[39m\u001b[39m.\u001b[39m\u001b[39m__class__\u001b[39m\u001b[39m.\u001b[39m\u001b[39m__name__\u001b[39m\u001b[39m!r}\u001b[39;00m\u001b[39m object has no attribute \u001b[39m\u001b[39m{\u001b[39;00mattribute\u001b[39m!r}\u001b[39;00m\u001b[39m\"\u001b[39m\n\u001b[0;32m     38\u001b[0m )\n",
      "File \u001b[1;32mc:\\Users\\AJ Jhones Lacubtan\\.virtualenvs\\Sentiment-CzZnRBUX\\Lib\\site-packages\\praw\\models\\reddit\\submission.py:622\u001b[0m, in \u001b[0;36mSubmission._fetch\u001b[1;34m(self)\u001b[0m\n\u001b[0;32m    621\u001b[0m \u001b[39mdef\u001b[39;00m \u001b[39m_fetch\u001b[39m(\u001b[39mself\u001b[39m):\n\u001b[1;32m--> 622\u001b[0m     data \u001b[39m=\u001b[39m \u001b[39mself\u001b[39;49m\u001b[39m.\u001b[39;49m_fetch_data()\n\u001b[0;32m    623\u001b[0m     submission_listing, comment_listing \u001b[39m=\u001b[39m data\n\u001b[0;32m    624\u001b[0m     comment_listing \u001b[39m=\u001b[39m Listing(\u001b[39mself\u001b[39m\u001b[39m.\u001b[39m_reddit, _data\u001b[39m=\u001b[39mcomment_listing[\u001b[39m\"\u001b[39m\u001b[39mdata\u001b[39m\u001b[39m\"\u001b[39m])\n",
      "File \u001b[1;32mc:\\Users\\AJ Jhones Lacubtan\\.virtualenvs\\Sentiment-CzZnRBUX\\Lib\\site-packages\\praw\\models\\reddit\\submission.py:640\u001b[0m, in \u001b[0;36mSubmission._fetch_data\u001b[1;34m(self)\u001b[0m\n\u001b[0;32m    638\u001b[0m name, fields, params \u001b[39m=\u001b[39m \u001b[39mself\u001b[39m\u001b[39m.\u001b[39m_fetch_info()\n\u001b[0;32m    639\u001b[0m path \u001b[39m=\u001b[39m API_PATH[name]\u001b[39m.\u001b[39mformat(\u001b[39m*\u001b[39m\u001b[39m*\u001b[39mfields)\n\u001b[1;32m--> 640\u001b[0m \u001b[39mreturn\u001b[39;00m \u001b[39mself\u001b[39;49m\u001b[39m.\u001b[39;49m_reddit\u001b[39m.\u001b[39;49mrequest(method\u001b[39m=\u001b[39;49m\u001b[39m\"\u001b[39;49m\u001b[39mGET\u001b[39;49m\u001b[39m\"\u001b[39;49m, params\u001b[39m=\u001b[39;49mparams, path\u001b[39m=\u001b[39;49mpath)\n",
      "File \u001b[1;32mc:\\Users\\AJ Jhones Lacubtan\\.virtualenvs\\Sentiment-CzZnRBUX\\Lib\\site-packages\\praw\\util\\deprecate_args.py:43\u001b[0m, in \u001b[0;36m_deprecate_args.<locals>.wrapper.<locals>.wrapped\u001b[1;34m(*args, **kwargs)\u001b[0m\n\u001b[0;32m     36\u001b[0m     arg_string \u001b[39m=\u001b[39m _generate_arg_string(_old_args[: \u001b[39mlen\u001b[39m(args)])\n\u001b[0;32m     37\u001b[0m     warn(\n\u001b[0;32m     38\u001b[0m         \u001b[39mf\u001b[39m\u001b[39m\"\u001b[39m\u001b[39mPositional arguments for \u001b[39m\u001b[39m{\u001b[39;00mfunc\u001b[39m.\u001b[39m\u001b[39m__qualname__\u001b[39m\u001b[39m!r}\u001b[39;00m\u001b[39m will no longer be\u001b[39m\u001b[39m\"\u001b[39m\n\u001b[0;32m     39\u001b[0m         \u001b[39mf\u001b[39m\u001b[39m\"\u001b[39m\u001b[39m supported in PRAW 8.\u001b[39m\u001b[39m\\n\u001b[39;00m\u001b[39mCall this function with \u001b[39m\u001b[39m{\u001b[39;00marg_string\u001b[39m}\u001b[39;00m\u001b[39m.\u001b[39m\u001b[39m\"\u001b[39m,\n\u001b[0;32m     40\u001b[0m         \u001b[39mDeprecationWarning\u001b[39;00m,\n\u001b[0;32m     41\u001b[0m         stacklevel\u001b[39m=\u001b[39m\u001b[39m2\u001b[39m,\n\u001b[0;32m     42\u001b[0m     )\n\u001b[1;32m---> 43\u001b[0m \u001b[39mreturn\u001b[39;00m func(\u001b[39m*\u001b[39;49m\u001b[39m*\u001b[39;49m\u001b[39mdict\u001b[39;49m(\u001b[39mzip\u001b[39;49m(_old_args, args)), \u001b[39m*\u001b[39;49m\u001b[39m*\u001b[39;49mkwargs)\n",
      "File \u001b[1;32mc:\\Users\\AJ Jhones Lacubtan\\.virtualenvs\\Sentiment-CzZnRBUX\\Lib\\site-packages\\praw\\reddit.py:941\u001b[0m, in \u001b[0;36mReddit.request\u001b[1;34m(self, data, files, json, method, params, path)\u001b[0m\n\u001b[0;32m    939\u001b[0m     \u001b[39mraise\u001b[39;00m ClientException(\u001b[39m\"\u001b[39m\u001b[39mAt most one of \u001b[39m\u001b[39m'\u001b[39m\u001b[39mdata\u001b[39m\u001b[39m'\u001b[39m\u001b[39m or \u001b[39m\u001b[39m'\u001b[39m\u001b[39mjson\u001b[39m\u001b[39m'\u001b[39m\u001b[39m is supported.\u001b[39m\u001b[39m\"\u001b[39m)\n\u001b[0;32m    940\u001b[0m \u001b[39mtry\u001b[39;00m:\n\u001b[1;32m--> 941\u001b[0m     \u001b[39mreturn\u001b[39;00m \u001b[39mself\u001b[39;49m\u001b[39m.\u001b[39;49m_core\u001b[39m.\u001b[39;49mrequest(\n\u001b[0;32m    942\u001b[0m         data\u001b[39m=\u001b[39;49mdata,\n\u001b[0;32m    943\u001b[0m         files\u001b[39m=\u001b[39;49mfiles,\n\u001b[0;32m    944\u001b[0m         json\u001b[39m=\u001b[39;49mjson,\n\u001b[0;32m    945\u001b[0m         method\u001b[39m=\u001b[39;49mmethod,\n\u001b[0;32m    946\u001b[0m         params\u001b[39m=\u001b[39;49mparams,\n\u001b[0;32m    947\u001b[0m         path\u001b[39m=\u001b[39;49mpath,\n\u001b[0;32m    948\u001b[0m     )\n\u001b[0;32m    949\u001b[0m \u001b[39mexcept\u001b[39;00m BadRequest \u001b[39mas\u001b[39;00m exception:\n\u001b[0;32m    950\u001b[0m     \u001b[39mtry\u001b[39;00m:\n",
      "File \u001b[1;32mc:\\Users\\AJ Jhones Lacubtan\\.virtualenvs\\Sentiment-CzZnRBUX\\Lib\\site-packages\\prawcore\\sessions.py:330\u001b[0m, in \u001b[0;36mSession.request\u001b[1;34m(self, method, path, data, files, json, params, timeout)\u001b[0m\n\u001b[0;32m    328\u001b[0m     json[\u001b[39m\"\u001b[39m\u001b[39mapi_type\u001b[39m\u001b[39m\"\u001b[39m] \u001b[39m=\u001b[39m \u001b[39m\"\u001b[39m\u001b[39mjson\u001b[39m\u001b[39m\"\u001b[39m\n\u001b[0;32m    329\u001b[0m url \u001b[39m=\u001b[39m urljoin(\u001b[39mself\u001b[39m\u001b[39m.\u001b[39m_requestor\u001b[39m.\u001b[39moauth_url, path)\n\u001b[1;32m--> 330\u001b[0m \u001b[39mreturn\u001b[39;00m \u001b[39mself\u001b[39;49m\u001b[39m.\u001b[39;49m_request_with_retries(\n\u001b[0;32m    331\u001b[0m     data\u001b[39m=\u001b[39;49mdata,\n\u001b[0;32m    332\u001b[0m     files\u001b[39m=\u001b[39;49mfiles,\n\u001b[0;32m    333\u001b[0m     json\u001b[39m=\u001b[39;49mjson,\n\u001b[0;32m    334\u001b[0m     method\u001b[39m=\u001b[39;49mmethod,\n\u001b[0;32m    335\u001b[0m     params\u001b[39m=\u001b[39;49mparams,\n\u001b[0;32m    336\u001b[0m     timeout\u001b[39m=\u001b[39;49mtimeout,\n\u001b[0;32m    337\u001b[0m     url\u001b[39m=\u001b[39;49murl,\n\u001b[0;32m    338\u001b[0m )\n",
      "File \u001b[1;32mc:\\Users\\AJ Jhones Lacubtan\\.virtualenvs\\Sentiment-CzZnRBUX\\Lib\\site-packages\\prawcore\\sessions.py:228\u001b[0m, in \u001b[0;36mSession._request_with_retries\u001b[1;34m(self, data, files, json, method, params, timeout, url, retry_strategy_state)\u001b[0m\n\u001b[0;32m    226\u001b[0m retry_strategy_state\u001b[39m.\u001b[39msleep()\n\u001b[0;32m    227\u001b[0m \u001b[39mself\u001b[39m\u001b[39m.\u001b[39m_log_request(data, method, params, url)\n\u001b[1;32m--> 228\u001b[0m response, saved_exception \u001b[39m=\u001b[39m \u001b[39mself\u001b[39;49m\u001b[39m.\u001b[39;49m_make_request(\n\u001b[0;32m    229\u001b[0m     data,\n\u001b[0;32m    230\u001b[0m     files,\n\u001b[0;32m    231\u001b[0m     json,\n\u001b[0;32m    232\u001b[0m     method,\n\u001b[0;32m    233\u001b[0m     params,\n\u001b[0;32m    234\u001b[0m     retry_strategy_state,\n\u001b[0;32m    235\u001b[0m     timeout,\n\u001b[0;32m    236\u001b[0m     url,\n\u001b[0;32m    237\u001b[0m )\n\u001b[0;32m    239\u001b[0m do_retry \u001b[39m=\u001b[39m \u001b[39mFalse\u001b[39;00m\n\u001b[0;32m    240\u001b[0m \u001b[39mif\u001b[39;00m (\n\u001b[0;32m    241\u001b[0m     response \u001b[39mis\u001b[39;00m \u001b[39mnot\u001b[39;00m \u001b[39mNone\u001b[39;00m\n\u001b[0;32m    242\u001b[0m     \u001b[39mand\u001b[39;00m response\u001b[39m.\u001b[39mstatus_code \u001b[39m==\u001b[39m codes[\u001b[39m\"\u001b[39m\u001b[39munauthorized\u001b[39m\u001b[39m\"\u001b[39m]\n\u001b[0;32m    243\u001b[0m ):\n",
      "File \u001b[1;32mc:\\Users\\AJ Jhones Lacubtan\\.virtualenvs\\Sentiment-CzZnRBUX\\Lib\\site-packages\\prawcore\\sessions.py:185\u001b[0m, in \u001b[0;36mSession._make_request\u001b[1;34m(self, data, files, json, method, params, retry_strategy_state, timeout, url)\u001b[0m\n\u001b[0;32m    173\u001b[0m \u001b[39mdef\u001b[39;00m \u001b[39m_make_request\u001b[39m(\n\u001b[0;32m    174\u001b[0m     \u001b[39mself\u001b[39m,\n\u001b[0;32m    175\u001b[0m     data,\n\u001b[1;32m   (...)\u001b[0m\n\u001b[0;32m    182\u001b[0m     url,\n\u001b[0;32m    183\u001b[0m ):\n\u001b[0;32m    184\u001b[0m     \u001b[39mtry\u001b[39;00m:\n\u001b[1;32m--> 185\u001b[0m         response \u001b[39m=\u001b[39m \u001b[39mself\u001b[39;49m\u001b[39m.\u001b[39;49m_rate_limiter\u001b[39m.\u001b[39;49mcall(\n\u001b[0;32m    186\u001b[0m             \u001b[39mself\u001b[39;49m\u001b[39m.\u001b[39;49m_requestor\u001b[39m.\u001b[39;49mrequest,\n\u001b[0;32m    187\u001b[0m             \u001b[39mself\u001b[39;49m\u001b[39m.\u001b[39;49m_set_header_callback,\n\u001b[0;32m    188\u001b[0m             method,\n\u001b[0;32m    189\u001b[0m             url,\n\u001b[0;32m    190\u001b[0m             allow_redirects\u001b[39m=\u001b[39;49m\u001b[39mFalse\u001b[39;49;00m,\n\u001b[0;32m    191\u001b[0m             data\u001b[39m=\u001b[39;49mdata,\n\u001b[0;32m    192\u001b[0m             files\u001b[39m=\u001b[39;49mfiles,\n\u001b[0;32m    193\u001b[0m             json\u001b[39m=\u001b[39;49mjson,\n\u001b[0;32m    194\u001b[0m             params\u001b[39m=\u001b[39;49mparams,\n\u001b[0;32m    195\u001b[0m             timeout\u001b[39m=\u001b[39;49mtimeout,\n\u001b[0;32m    196\u001b[0m         )\n\u001b[0;32m    197\u001b[0m         log\u001b[39m.\u001b[39mdebug(\n\u001b[0;32m    198\u001b[0m             \u001b[39mf\u001b[39m\u001b[39m\"\u001b[39m\u001b[39mResponse: \u001b[39m\u001b[39m{\u001b[39;00mresponse\u001b[39m.\u001b[39mstatus_code\u001b[39m}\u001b[39;00m\u001b[39m\"\u001b[39m\n\u001b[0;32m    199\u001b[0m             \u001b[39mf\u001b[39m\u001b[39m\"\u001b[39m\u001b[39m (\u001b[39m\u001b[39m{\u001b[39;00mresponse\u001b[39m.\u001b[39mheaders\u001b[39m.\u001b[39mget(\u001b[39m'\u001b[39m\u001b[39mcontent-length\u001b[39m\u001b[39m'\u001b[39m)\u001b[39m}\u001b[39;00m\u001b[39m bytes)\u001b[39m\u001b[39m\"\u001b[39m\n\u001b[0;32m    200\u001b[0m         )\n\u001b[0;32m    201\u001b[0m         \u001b[39mreturn\u001b[39;00m response, \u001b[39mNone\u001b[39;00m\n",
      "File \u001b[1;32mc:\\Users\\AJ Jhones Lacubtan\\.virtualenvs\\Sentiment-CzZnRBUX\\Lib\\site-packages\\prawcore\\rate_limit.py:34\u001b[0m, in \u001b[0;36mRateLimiter.call\u001b[1;34m(self, request_function, set_header_callback, *args, **kwargs)\u001b[0m\n\u001b[0;32m     32\u001b[0m \u001b[39mself\u001b[39m\u001b[39m.\u001b[39mdelay()\n\u001b[0;32m     33\u001b[0m kwargs[\u001b[39m\"\u001b[39m\u001b[39mheaders\u001b[39m\u001b[39m\"\u001b[39m] \u001b[39m=\u001b[39m set_header_callback()\n\u001b[1;32m---> 34\u001b[0m response \u001b[39m=\u001b[39m request_function(\u001b[39m*\u001b[39;49margs, \u001b[39m*\u001b[39;49m\u001b[39m*\u001b[39;49mkwargs)\n\u001b[0;32m     35\u001b[0m \u001b[39mself\u001b[39m\u001b[39m.\u001b[39mupdate(response\u001b[39m.\u001b[39mheaders)\n\u001b[0;32m     36\u001b[0m \u001b[39mreturn\u001b[39;00m response\n",
      "File \u001b[1;32mc:\\Users\\AJ Jhones Lacubtan\\.virtualenvs\\Sentiment-CzZnRBUX\\Lib\\site-packages\\prawcore\\requestor.py:58\u001b[0m, in \u001b[0;36mRequestor.request\u001b[1;34m(self, timeout, *args, **kwargs)\u001b[0m\n\u001b[0;32m     56\u001b[0m \u001b[39m\u001b[39m\u001b[39m\"\"\"Issue the HTTP request capturing any errors that may occur.\"\"\"\u001b[39;00m\n\u001b[0;32m     57\u001b[0m \u001b[39mtry\u001b[39;00m:\n\u001b[1;32m---> 58\u001b[0m     \u001b[39mreturn\u001b[39;00m \u001b[39mself\u001b[39;49m\u001b[39m.\u001b[39;49m_http\u001b[39m.\u001b[39;49mrequest(\n\u001b[0;32m     59\u001b[0m         \u001b[39m*\u001b[39;49margs, timeout\u001b[39m=\u001b[39;49mtimeout \u001b[39mor\u001b[39;49;00m \u001b[39mself\u001b[39;49m\u001b[39m.\u001b[39;49mtimeout, \u001b[39m*\u001b[39;49m\u001b[39m*\u001b[39;49mkwargs\n\u001b[0;32m     60\u001b[0m     )\n\u001b[0;32m     61\u001b[0m \u001b[39mexcept\u001b[39;00m \u001b[39mException\u001b[39;00m \u001b[39mas\u001b[39;00m exc:\n\u001b[0;32m     62\u001b[0m     \u001b[39mraise\u001b[39;00m RequestException(exc, args, kwargs)\n",
      "File \u001b[1;32mc:\\Users\\AJ Jhones Lacubtan\\.virtualenvs\\Sentiment-CzZnRBUX\\Lib\\site-packages\\requests\\sessions.py:587\u001b[0m, in \u001b[0;36mSession.request\u001b[1;34m(self, method, url, params, data, headers, cookies, files, auth, timeout, allow_redirects, proxies, hooks, stream, verify, cert, json)\u001b[0m\n\u001b[0;32m    582\u001b[0m send_kwargs \u001b[39m=\u001b[39m {\n\u001b[0;32m    583\u001b[0m     \u001b[39m\"\u001b[39m\u001b[39mtimeout\u001b[39m\u001b[39m\"\u001b[39m: timeout,\n\u001b[0;32m    584\u001b[0m     \u001b[39m\"\u001b[39m\u001b[39mallow_redirects\u001b[39m\u001b[39m\"\u001b[39m: allow_redirects,\n\u001b[0;32m    585\u001b[0m }\n\u001b[0;32m    586\u001b[0m send_kwargs\u001b[39m.\u001b[39mupdate(settings)\n\u001b[1;32m--> 587\u001b[0m resp \u001b[39m=\u001b[39m \u001b[39mself\u001b[39;49m\u001b[39m.\u001b[39;49msend(prep, \u001b[39m*\u001b[39;49m\u001b[39m*\u001b[39;49msend_kwargs)\n\u001b[0;32m    589\u001b[0m \u001b[39mreturn\u001b[39;00m resp\n",
      "File \u001b[1;32mc:\\Users\\AJ Jhones Lacubtan\\.virtualenvs\\Sentiment-CzZnRBUX\\Lib\\site-packages\\requests\\sessions.py:701\u001b[0m, in \u001b[0;36mSession.send\u001b[1;34m(self, request, **kwargs)\u001b[0m\n\u001b[0;32m    698\u001b[0m start \u001b[39m=\u001b[39m preferred_clock()\n\u001b[0;32m    700\u001b[0m \u001b[39m# Send the request\u001b[39;00m\n\u001b[1;32m--> 701\u001b[0m r \u001b[39m=\u001b[39m adapter\u001b[39m.\u001b[39;49msend(request, \u001b[39m*\u001b[39;49m\u001b[39m*\u001b[39;49mkwargs)\n\u001b[0;32m    703\u001b[0m \u001b[39m# Total elapsed time of the request (approximately)\u001b[39;00m\n\u001b[0;32m    704\u001b[0m elapsed \u001b[39m=\u001b[39m preferred_clock() \u001b[39m-\u001b[39m start\n",
      "File \u001b[1;32mc:\\Users\\AJ Jhones Lacubtan\\.virtualenvs\\Sentiment-CzZnRBUX\\Lib\\site-packages\\requests\\adapters.py:489\u001b[0m, in \u001b[0;36mHTTPAdapter.send\u001b[1;34m(self, request, stream, timeout, verify, cert, proxies)\u001b[0m\n\u001b[0;32m    487\u001b[0m \u001b[39mtry\u001b[39;00m:\n\u001b[0;32m    488\u001b[0m     \u001b[39mif\u001b[39;00m \u001b[39mnot\u001b[39;00m chunked:\n\u001b[1;32m--> 489\u001b[0m         resp \u001b[39m=\u001b[39m conn\u001b[39m.\u001b[39;49murlopen(\n\u001b[0;32m    490\u001b[0m             method\u001b[39m=\u001b[39;49mrequest\u001b[39m.\u001b[39;49mmethod,\n\u001b[0;32m    491\u001b[0m             url\u001b[39m=\u001b[39;49murl,\n\u001b[0;32m    492\u001b[0m             body\u001b[39m=\u001b[39;49mrequest\u001b[39m.\u001b[39;49mbody,\n\u001b[0;32m    493\u001b[0m             headers\u001b[39m=\u001b[39;49mrequest\u001b[39m.\u001b[39;49mheaders,\n\u001b[0;32m    494\u001b[0m             redirect\u001b[39m=\u001b[39;49m\u001b[39mFalse\u001b[39;49;00m,\n\u001b[0;32m    495\u001b[0m             assert_same_host\u001b[39m=\u001b[39;49m\u001b[39mFalse\u001b[39;49;00m,\n\u001b[0;32m    496\u001b[0m             preload_content\u001b[39m=\u001b[39;49m\u001b[39mFalse\u001b[39;49;00m,\n\u001b[0;32m    497\u001b[0m             decode_content\u001b[39m=\u001b[39;49m\u001b[39mFalse\u001b[39;49;00m,\n\u001b[0;32m    498\u001b[0m             retries\u001b[39m=\u001b[39;49m\u001b[39mself\u001b[39;49m\u001b[39m.\u001b[39;49mmax_retries,\n\u001b[0;32m    499\u001b[0m             timeout\u001b[39m=\u001b[39;49mtimeout,\n\u001b[0;32m    500\u001b[0m         )\n\u001b[0;32m    502\u001b[0m     \u001b[39m# Send the request.\u001b[39;00m\n\u001b[0;32m    503\u001b[0m     \u001b[39melse\u001b[39;00m:\n\u001b[0;32m    504\u001b[0m         \u001b[39mif\u001b[39;00m \u001b[39mhasattr\u001b[39m(conn, \u001b[39m\"\u001b[39m\u001b[39mproxy_pool\u001b[39m\u001b[39m\"\u001b[39m):\n",
      "File \u001b[1;32mc:\\Users\\AJ Jhones Lacubtan\\.virtualenvs\\Sentiment-CzZnRBUX\\Lib\\site-packages\\urllib3\\connectionpool.py:703\u001b[0m, in \u001b[0;36mHTTPConnectionPool.urlopen\u001b[1;34m(self, method, url, body, headers, retries, redirect, assert_same_host, timeout, pool_timeout, release_conn, chunked, body_pos, **response_kw)\u001b[0m\n\u001b[0;32m    700\u001b[0m     \u001b[39mself\u001b[39m\u001b[39m.\u001b[39m_prepare_proxy(conn)\n\u001b[0;32m    702\u001b[0m \u001b[39m# Make the request on the httplib connection object.\u001b[39;00m\n\u001b[1;32m--> 703\u001b[0m httplib_response \u001b[39m=\u001b[39m \u001b[39mself\u001b[39;49m\u001b[39m.\u001b[39;49m_make_request(\n\u001b[0;32m    704\u001b[0m     conn,\n\u001b[0;32m    705\u001b[0m     method,\n\u001b[0;32m    706\u001b[0m     url,\n\u001b[0;32m    707\u001b[0m     timeout\u001b[39m=\u001b[39;49mtimeout_obj,\n\u001b[0;32m    708\u001b[0m     body\u001b[39m=\u001b[39;49mbody,\n\u001b[0;32m    709\u001b[0m     headers\u001b[39m=\u001b[39;49mheaders,\n\u001b[0;32m    710\u001b[0m     chunked\u001b[39m=\u001b[39;49mchunked,\n\u001b[0;32m    711\u001b[0m )\n\u001b[0;32m    713\u001b[0m \u001b[39m# If we're going to release the connection in ``finally:``, then\u001b[39;00m\n\u001b[0;32m    714\u001b[0m \u001b[39m# the response doesn't need to know about the connection. Otherwise\u001b[39;00m\n\u001b[0;32m    715\u001b[0m \u001b[39m# it will also try to release it and we'll have a double-release\u001b[39;00m\n\u001b[0;32m    716\u001b[0m \u001b[39m# mess.\u001b[39;00m\n\u001b[0;32m    717\u001b[0m response_conn \u001b[39m=\u001b[39m conn \u001b[39mif\u001b[39;00m \u001b[39mnot\u001b[39;00m release_conn \u001b[39melse\u001b[39;00m \u001b[39mNone\u001b[39;00m\n",
      "File \u001b[1;32mc:\\Users\\AJ Jhones Lacubtan\\.virtualenvs\\Sentiment-CzZnRBUX\\Lib\\site-packages\\urllib3\\connectionpool.py:449\u001b[0m, in \u001b[0;36mHTTPConnectionPool._make_request\u001b[1;34m(self, conn, method, url, timeout, chunked, **httplib_request_kw)\u001b[0m\n\u001b[0;32m    444\u001b[0m             httplib_response \u001b[39m=\u001b[39m conn\u001b[39m.\u001b[39mgetresponse()\n\u001b[0;32m    445\u001b[0m         \u001b[39mexcept\u001b[39;00m \u001b[39mBaseException\u001b[39;00m \u001b[39mas\u001b[39;00m e:\n\u001b[0;32m    446\u001b[0m             \u001b[39m# Remove the TypeError from the exception chain in\u001b[39;00m\n\u001b[0;32m    447\u001b[0m             \u001b[39m# Python 3 (including for exceptions like SystemExit).\u001b[39;00m\n\u001b[0;32m    448\u001b[0m             \u001b[39m# Otherwise it looks like a bug in the code.\u001b[39;00m\n\u001b[1;32m--> 449\u001b[0m             six\u001b[39m.\u001b[39;49mraise_from(e, \u001b[39mNone\u001b[39;49;00m)\n\u001b[0;32m    450\u001b[0m \u001b[39mexcept\u001b[39;00m (SocketTimeout, BaseSSLError, SocketError) \u001b[39mas\u001b[39;00m e:\n\u001b[0;32m    451\u001b[0m     \u001b[39mself\u001b[39m\u001b[39m.\u001b[39m_raise_timeout(err\u001b[39m=\u001b[39me, url\u001b[39m=\u001b[39murl, timeout_value\u001b[39m=\u001b[39mread_timeout)\n",
      "File \u001b[1;32m<string>:3\u001b[0m, in \u001b[0;36mraise_from\u001b[1;34m(value, from_value)\u001b[0m\n",
      "File \u001b[1;32mc:\\Users\\AJ Jhones Lacubtan\\.virtualenvs\\Sentiment-CzZnRBUX\\Lib\\site-packages\\urllib3\\connectionpool.py:444\u001b[0m, in \u001b[0;36mHTTPConnectionPool._make_request\u001b[1;34m(self, conn, method, url, timeout, chunked, **httplib_request_kw)\u001b[0m\n\u001b[0;32m    441\u001b[0m \u001b[39mexcept\u001b[39;00m \u001b[39mTypeError\u001b[39;00m:\n\u001b[0;32m    442\u001b[0m     \u001b[39m# Python 3\u001b[39;00m\n\u001b[0;32m    443\u001b[0m     \u001b[39mtry\u001b[39;00m:\n\u001b[1;32m--> 444\u001b[0m         httplib_response \u001b[39m=\u001b[39m conn\u001b[39m.\u001b[39;49mgetresponse()\n\u001b[0;32m    445\u001b[0m     \u001b[39mexcept\u001b[39;00m \u001b[39mBaseException\u001b[39;00m \u001b[39mas\u001b[39;00m e:\n\u001b[0;32m    446\u001b[0m         \u001b[39m# Remove the TypeError from the exception chain in\u001b[39;00m\n\u001b[0;32m    447\u001b[0m         \u001b[39m# Python 3 (including for exceptions like SystemExit).\u001b[39;00m\n\u001b[0;32m    448\u001b[0m         \u001b[39m# Otherwise it looks like a bug in the code.\u001b[39;00m\n\u001b[0;32m    449\u001b[0m         six\u001b[39m.\u001b[39mraise_from(e, \u001b[39mNone\u001b[39;00m)\n",
      "File \u001b[1;32m~\\AppData\\Local\\Programs\\Python\\Python311\\Lib\\http\\client.py:1375\u001b[0m, in \u001b[0;36mHTTPConnection.getresponse\u001b[1;34m(self)\u001b[0m\n\u001b[0;32m   1373\u001b[0m \u001b[39mtry\u001b[39;00m:\n\u001b[0;32m   1374\u001b[0m     \u001b[39mtry\u001b[39;00m:\n\u001b[1;32m-> 1375\u001b[0m         response\u001b[39m.\u001b[39;49mbegin()\n\u001b[0;32m   1376\u001b[0m     \u001b[39mexcept\u001b[39;00m \u001b[39mConnectionError\u001b[39;00m:\n\u001b[0;32m   1377\u001b[0m         \u001b[39mself\u001b[39m\u001b[39m.\u001b[39mclose()\n",
      "File \u001b[1;32m~\\AppData\\Local\\Programs\\Python\\Python311\\Lib\\http\\client.py:318\u001b[0m, in \u001b[0;36mHTTPResponse.begin\u001b[1;34m(self)\u001b[0m\n\u001b[0;32m    316\u001b[0m \u001b[39m# read until we get a non-100 response\u001b[39;00m\n\u001b[0;32m    317\u001b[0m \u001b[39mwhile\u001b[39;00m \u001b[39mTrue\u001b[39;00m:\n\u001b[1;32m--> 318\u001b[0m     version, status, reason \u001b[39m=\u001b[39m \u001b[39mself\u001b[39;49m\u001b[39m.\u001b[39;49m_read_status()\n\u001b[0;32m    319\u001b[0m     \u001b[39mif\u001b[39;00m status \u001b[39m!=\u001b[39m CONTINUE:\n\u001b[0;32m    320\u001b[0m         \u001b[39mbreak\u001b[39;00m\n",
      "File \u001b[1;32m~\\AppData\\Local\\Programs\\Python\\Python311\\Lib\\http\\client.py:279\u001b[0m, in \u001b[0;36mHTTPResponse._read_status\u001b[1;34m(self)\u001b[0m\n\u001b[0;32m    278\u001b[0m \u001b[39mdef\u001b[39;00m \u001b[39m_read_status\u001b[39m(\u001b[39mself\u001b[39m):\n\u001b[1;32m--> 279\u001b[0m     line \u001b[39m=\u001b[39m \u001b[39mstr\u001b[39m(\u001b[39mself\u001b[39m\u001b[39m.\u001b[39mfp\u001b[39m.\u001b[39mreadline(_MAXLINE \u001b[39m+\u001b[39m \u001b[39m1\u001b[39m), \u001b[39m\"\u001b[39m\u001b[39miso-8859-1\u001b[39m\u001b[39m\"\u001b[39m)\n\u001b[0;32m    280\u001b[0m     \u001b[39mif\u001b[39;00m \u001b[39mlen\u001b[39m(line) \u001b[39m>\u001b[39m _MAXLINE:\n\u001b[0;32m    281\u001b[0m         \u001b[39mraise\u001b[39;00m LineTooLong(\u001b[39m\"\u001b[39m\u001b[39mstatus line\u001b[39m\u001b[39m\"\u001b[39m)\n",
      "File \u001b[1;32m~\\AppData\\Local\\Programs\\Python\\Python311\\Lib\\socket.py:706\u001b[0m, in \u001b[0;36mSocketIO.readinto\u001b[1;34m(self, b)\u001b[0m\n\u001b[0;32m    704\u001b[0m \u001b[39mwhile\u001b[39;00m \u001b[39mTrue\u001b[39;00m:\n\u001b[0;32m    705\u001b[0m     \u001b[39mtry\u001b[39;00m:\n\u001b[1;32m--> 706\u001b[0m         \u001b[39mreturn\u001b[39;00m \u001b[39mself\u001b[39;49m\u001b[39m.\u001b[39;49m_sock\u001b[39m.\u001b[39;49mrecv_into(b)\n\u001b[0;32m    707\u001b[0m     \u001b[39mexcept\u001b[39;00m timeout:\n\u001b[0;32m    708\u001b[0m         \u001b[39mself\u001b[39m\u001b[39m.\u001b[39m_timeout_occurred \u001b[39m=\u001b[39m \u001b[39mTrue\u001b[39;00m\n",
      "File \u001b[1;32m~\\AppData\\Local\\Programs\\Python\\Python311\\Lib\\ssl.py:1278\u001b[0m, in \u001b[0;36mSSLSocket.recv_into\u001b[1;34m(self, buffer, nbytes, flags)\u001b[0m\n\u001b[0;32m   1274\u001b[0m     \u001b[39mif\u001b[39;00m flags \u001b[39m!=\u001b[39m \u001b[39m0\u001b[39m:\n\u001b[0;32m   1275\u001b[0m         \u001b[39mraise\u001b[39;00m \u001b[39mValueError\u001b[39;00m(\n\u001b[0;32m   1276\u001b[0m           \u001b[39m\"\u001b[39m\u001b[39mnon-zero flags not allowed in calls to recv_into() on \u001b[39m\u001b[39m%s\u001b[39;00m\u001b[39m\"\u001b[39m \u001b[39m%\u001b[39m\n\u001b[0;32m   1277\u001b[0m           \u001b[39mself\u001b[39m\u001b[39m.\u001b[39m\u001b[39m__class__\u001b[39m)\n\u001b[1;32m-> 1278\u001b[0m     \u001b[39mreturn\u001b[39;00m \u001b[39mself\u001b[39;49m\u001b[39m.\u001b[39;49mread(nbytes, buffer)\n\u001b[0;32m   1279\u001b[0m \u001b[39melse\u001b[39;00m:\n\u001b[0;32m   1280\u001b[0m     \u001b[39mreturn\u001b[39;00m \u001b[39msuper\u001b[39m()\u001b[39m.\u001b[39mrecv_into(buffer, nbytes, flags)\n",
      "File \u001b[1;32m~\\AppData\\Local\\Programs\\Python\\Python311\\Lib\\ssl.py:1134\u001b[0m, in \u001b[0;36mSSLSocket.read\u001b[1;34m(self, len, buffer)\u001b[0m\n\u001b[0;32m   1132\u001b[0m \u001b[39mtry\u001b[39;00m:\n\u001b[0;32m   1133\u001b[0m     \u001b[39mif\u001b[39;00m buffer \u001b[39mis\u001b[39;00m \u001b[39mnot\u001b[39;00m \u001b[39mNone\u001b[39;00m:\n\u001b[1;32m-> 1134\u001b[0m         \u001b[39mreturn\u001b[39;00m \u001b[39mself\u001b[39;49m\u001b[39m.\u001b[39;49m_sslobj\u001b[39m.\u001b[39;49mread(\u001b[39mlen\u001b[39;49m, buffer)\n\u001b[0;32m   1135\u001b[0m     \u001b[39melse\u001b[39;00m:\n\u001b[0;32m   1136\u001b[0m         \u001b[39mreturn\u001b[39;00m \u001b[39mself\u001b[39m\u001b[39m.\u001b[39m_sslobj\u001b[39m.\u001b[39mread(\u001b[39mlen\u001b[39m)\n",
      "\u001b[1;31mKeyboardInterrupt\u001b[0m: "
     ]
    }
   ],
   "source": [
    "import prawcore\n",
    "\n",
    "# get comments\n",
    "submission_ids = data.index\n",
    "\n",
    "for submission_id in submission_ids:\n",
    "    while True:\n",
    "        try:\n",
    "            comments = get_submission_comments(submission_id)\n",
    "            break\n",
    "        except (praw.exceptions.APIException, prawcore.exceptions.ServerError) as e:\n",
    "            if isinstance(e, praw.exceptions.APIException):\n",
    "                print(f\"Encountered an API exception: {e}\")\n",
    "            elif isinstance(e, prawcore.exceptions.ServerError):\n",
    "                print(f\"Encountered a server error: {e}\")\n",
    "            else:\n",
    "                print(f\"Encountered an exception: {e}\")\n",
    "                \n",
    "            print(f\"Waiting for {30} seconds...\")\n",
    "            time.sleep(30)\n",
    "\n",
    "    for comment in comments:\n",
    "        comments_data.loc[comment.id] = [comment.body, comment.score, comment.created]\n"
   ]
  },
  {
   "cell_type": "code",
   "execution_count": 68,
   "metadata": {},
   "outputs": [],
   "source": [
    "# remove duplicates\n",
    "comments_data.drop_duplicates(subset=['body'], keep='first', inplace=True)"
   ]
  },
  {
   "cell_type": "code",
   "execution_count": 69,
   "metadata": {},
   "outputs": [],
   "source": [
    "# save data as pickle\n",
    "comments_data.to_pickle('reddit_comments_data.pkl')"
   ]
  },
  {
   "cell_type": "code",
   "execution_count": null,
   "metadata": {},
   "outputs": [],
   "source": [
    "# Load pickle file\n",
    "comments_data = pd.read_pickle('reddit_comments_data.pkl')"
   ]
  },
  {
   "cell_type": "code",
   "execution_count": 81,
   "metadata": {},
   "outputs": [
    {
     "data": {
      "text/plain": [
       "id\n",
       "h02hbk3    hahahaha. yung pinsan kong dds ganyan yung nan...\n",
       "h02shqk    his mistake was bakit siya umuwi na di pa pala...\n",
       "h02i5ib    i'm sure there is a place for him with the dds...\n",
       "h02iiq9                  comment mo na lang sa amok post nya\n",
       "h02iy2n    i think its better giving them advise to reach...\n",
       "                                 ...                        \n",
       "i89lggp    yeah but i worry that marcos won't do anything...\n",
       "i89lhrd    he might acquire this to solidify their power ...\n",
       "i89r3ao    kahit ano sa pic basta yung top of the line fu...\n",
       "i89t0c0    lahat ng nasa pic ay nabili na natin hindi pa ...\n",
       "ihuevdx    \"let's take a break muna from the election\" \"m...\n",
       "Name: body, Length: 35303, dtype: object"
      ]
     },
     "execution_count": 81,
     "metadata": {},
     "output_type": "execute_result"
    }
   ],
   "source": [
    "comments_data.body"
   ]
  },
  {
   "cell_type": "code",
   "execution_count": 84,
   "metadata": {},
   "outputs": [
    {
     "data": {
      "text/plain": [
       "Index(['body', 'score', 'created'], dtype='object')"
      ]
     },
     "execution_count": 84,
     "metadata": {},
     "output_type": "execute_result"
    }
   ],
   "source": [
    "comments_data.columns"
   ]
  },
  {
   "cell_type": "code",
   "execution_count": 82,
   "metadata": {},
   "outputs": [],
   "source": [
    "# remove empty submissions\n",
    "data = data[data['body'] != '']"
   ]
  },
  {
   "cell_type": "code",
   "execution_count": 88,
   "metadata": {},
   "outputs": [],
   "source": [
    "# concat data[['body', 'score', 'created']] to comments_data\n",
    "\n",
    "comments_data = pd.concat([comments_data, data[['body', 'score', 'created']]])"
   ]
  },
  {
   "cell_type": "code",
   "execution_count": 89,
   "metadata": {},
   "outputs": [
    {
     "data": {
      "text/plain": [
       "(35790, 3)"
      ]
     },
     "execution_count": 89,
     "metadata": {},
     "output_type": "execute_result"
    }
   ],
   "source": [
    "comments_data.shape"
   ]
  },
  {
   "cell_type": "code",
   "execution_count": 90,
   "metadata": {},
   "outputs": [],
   "source": [
    "# remove \\n and \\t in the body\n",
    "comments_data['body'] = comments_data['body'].str.replace('\\n', ' ')\n",
    "comments_data['body'] = comments_data['body'].str.replace('\\t', ' ')\n",
    "# remove punctuations in the body\n",
    "comments_data['body'] = comments_data['body'].str.replace('[^\\w\\s]', '')\n",
    "# remove numbers in the body\n",
    "comments_data['body'] = comments_data['body'].str.replace('\\d+', '')\n",
    "# remove extra spaces in the body\n",
    "comments_data['body'] = comments_data['body'].str.replace(' +', ' ')\n",
    "# remove empty comments\n",
    "comments_data = comments_data[comments_data['body'] != '']\n",
    "# lowercase the body\n",
    "comments_data['body'] = comments_data['body'].str.lower()"
   ]
  },
  {
   "cell_type": "code",
   "execution_count": 92,
   "metadata": {},
   "outputs": [],
   "source": [
    "# save data as pickle\n",
    "comments_data.to_pickle('reddit_comments_data.pkl')"
   ]
  },
  {
   "cell_type": "code",
   "execution_count": 94,
   "metadata": {},
   "outputs": [],
   "source": [
    "keywords = [ 'sinovac', 'pfizer', 'moderna', 'astrazeneca', 'j and j', 'vaccine', 'vaccination', 'booster']"
   ]
  },
  {
   "cell_type": "code",
   "execution_count": 95,
   "metadata": {},
   "outputs": [],
   "source": [
    "# Filter comments that only contain the keywords\n",
    "comments_data = comments_data[comments_data['body'].str.contains('|'.join(keywords))]"
   ]
  },
  {
   "cell_type": "code",
   "execution_count": 97,
   "metadata": {},
   "outputs": [],
   "source": [
    "# save data as csv\n",
    "\n",
    "comments_data.to_csv('reddit_comments_data.csv', index=False)"
   ]
  }
 ],
 "metadata": {
  "kernelspec": {
   "display_name": "Sentiment-CzZnRBUX",
   "language": "python",
   "name": "python3"
  },
  "language_info": {
   "codemirror_mode": {
    "name": "ipython",
    "version": 3
   },
   "file_extension": ".py",
   "mimetype": "text/x-python",
   "name": "python",
   "nbconvert_exporter": "python",
   "pygments_lexer": "ipython3",
   "version": "3.10.6"
  },
  "orig_nbformat": 4
 },
 "nbformat": 4,
 "nbformat_minor": 2
}
