{
 "cells": [
  {
   "cell_type": "code",
   "execution_count": 1,
   "metadata": {},
   "outputs": [
    {
     "name": "stderr",
     "output_type": "stream",
     "text": [
      "2023-05-13 09:17:01.276364: I tensorflow/core/util/port.cc:110] oneDNN custom operations are on. You may see slightly different numerical results due to floating-point round-off errors from different computation orders. To turn them off, set the environment variable `TF_ENABLE_ONEDNN_OPTS=0`.\n",
      "2023-05-13 09:17:02.711886: I tensorflow/tsl/cuda/cudart_stub.cc:28] Could not find cuda drivers on your machine, GPU will not be used.\n",
      "2023-05-13 09:17:08.843364: I tensorflow/tsl/cuda/cudart_stub.cc:28] Could not find cuda drivers on your machine, GPU will not be used.\n",
      "2023-05-13 09:17:08.861378: I tensorflow/core/platform/cpu_feature_guard.cc:182] This TensorFlow binary is optimized to use available CPU instructions in performance-critical operations.\n",
      "To enable the following instructions: AVX2 AVX512F AVX512_VNNI FMA, in other operations, rebuild TensorFlow with the appropriate compiler flags.\n",
      "2023-05-13 09:17:51.839505: W tensorflow/compiler/tf2tensorrt/utils/py_utils.cc:38] TF-TRT Warning: Could not find TensorRT\n"
     ]
    }
   ],
   "source": [
    "import pandas as pd\n",
    "import numpy as np\n",
    "import matplotlib.pyplot as plt\n",
    "\n",
    "from sklearn.model_selection import train_test_split\n",
    "from sklearn.metrics import confusion_matrix, classification_report\n",
    "\n",
    "from gensim.models import Word2Vec\n",
    "\n",
    "from keras.callbacks import EarlyStopping"
   ]
  },
  {
   "attachments": {},
   "cell_type": "markdown",
   "metadata": {},
   "source": [
    "## Load Data"
   ]
  },
  {
   "cell_type": "code",
   "execution_count": 2,
   "metadata": {},
   "outputs": [],
   "source": [
    "# Load data, read tokenized_tweet, stemmed_tweet, and no_stopwords_tweet as a list\n",
    "df = pd.read_pickle('data/preprocessed_data.pkl')"
   ]
  },
  {
   "cell_type": "code",
   "execution_count": 3,
   "metadata": {},
   "outputs": [
    {
     "data": {
      "text/plain": [
       "(5235, 10)"
      ]
     },
     "execution_count": 3,
     "metadata": {},
     "output_type": "execute_result"
    }
   ],
   "source": [
    "# Remove Neutral tweets\n",
    "df = df[df['sentiment'] != 'Neutral']\n",
    "df.shape"
   ]
  },
  {
   "attachments": {},
   "cell_type": "markdown",
   "metadata": {},
   "source": [
    "## Train and Test Split"
   ]
  },
  {
   "cell_type": "code",
   "execution_count": 8,
   "metadata": {},
   "outputs": [
    {
     "name": "stdout",
     "output_type": "stream",
     "text": [
      "Value counts for Train sentiments\n",
      "sentiment\n",
      "Negative    1968\n",
      "Positive    1696\n",
      "Name: count, dtype: int64\n",
      "Value counts for Test sentiments\n",
      "sentiment\n",
      "Negative    844\n",
      "Positive    727\n",
      "Name: count, dtype: int64\n",
      "<class 'pandas.core.frame.DataFrame'>\n",
      "<class 'pandas.core.series.Series'>\n",
      "   index         vaccine                                 no_stopwords_tweet\n",
      "0   5138         moderna  [moderna, dose, today, yey, avip, gotyourvacc,...\n",
      "1   1951  Not Applicable  [naman, po, ata, discrimination, management, p...\n",
      "2   8444          Pfizer  [pfizer, transparent, results, vaccine, studie...\n",
      "3   8472          Pfizer        [mas, tiwala, tawa, pfizer, sinovac, china]\n",
      "4    802         Sinovac  [sinovac, manufacturing, vaccines, polio, hepa...\n"
     ]
    }
   ],
   "source": [
    "# Train Test Split Function\n",
    "def split_train_test(df, test_size=0.3, shuffle_state=True):\n",
    "    X_train, X_test, Y_train, Y_test = train_test_split(df[['vaccine', 'no_stopwords_tweet']], \n",
    "                                                        df['sentiment'], \n",
    "                                                        shuffle=shuffle_state,\n",
    "                                                        test_size=test_size, \n",
    "                                                        random_state=15,\n",
    "                                                        stratify=df['sentiment'])\n",
    "    print(\"Value counts for Train sentiments\")\n",
    "    print(Y_train.value_counts())\n",
    "    \n",
    "    print(\"Value counts for Test sentiments\")\n",
    "    print(Y_test.value_counts())\n",
    "    print(type(X_train))\n",
    "    print(type(Y_train))\n",
    "    X_train = X_train.reset_index()\n",
    "    X_test = X_test.reset_index()\n",
    "    Y_train = Y_train.to_frame()\n",
    "    Y_train = Y_train.reset_index()\n",
    "    Y_test = Y_test.to_frame()\n",
    "    Y_test = Y_test.reset_index()\n",
    "    print(X_train.head())\n",
    "    return X_train, X_test, Y_train, Y_test\n",
    "\n",
    "# Call the train_test_split\n",
    "X_train, X_test, Y_train, Y_test = split_train_test(df)"
   ]
  },
  {
   "cell_type": "code",
   "execution_count": 10,
   "metadata": {},
   "outputs": [
    {
     "data": {
      "text/plain": [
       "((1571, 3), (1571, 2))"
      ]
     },
     "execution_count": 10,
     "metadata": {},
     "output_type": "execute_result"
    }
   ],
   "source": [
    "X_test.shape, Y_test.shape"
   ]
  },
  {
   "cell_type": "code",
   "execution_count": 13,
   "metadata": {},
   "outputs": [],
   "source": [
    "# Create X_val and Y_val from X_test and Y_test\n",
    "X_test, X_val, Y_test, Y_val = train_test_split(X_test[['vaccine', 'no_stopwords_tweet']],\n",
    "                                                Y_test['sentiment'],\n",
    "                                                shuffle=True,\n",
    "                                                test_size=0.333,\n",
    "                                                random_state=15,\n",
    "                                                stratify=Y_test['sentiment'])"
   ]
  },
  {
   "cell_type": "code",
   "execution_count": 14,
   "metadata": {},
   "outputs": [
    {
     "data": {
      "text/plain": [
       "((3664, 3), (1047, 2), (524, 2), (3664, 2), (1047,), (524,))"
      ]
     },
     "execution_count": 14,
     "metadata": {},
     "output_type": "execute_result"
    }
   ],
   "source": [
    "X_train.shape, X_test.shape, X_val.shape, Y_train.shape, Y_test.shape, Y_val.shape"
   ]
  },
  {
   "attachments": {},
   "cell_type": "markdown",
   "metadata": {},
   "source": [
    "## Generate word2vec model\n",
    "\n",
    "[Github Link](https://github.com/danjohnvelasco/Filipino-Word-Embeddings)"
   ]
  },
  {
   "cell_type": "code",
   "execution_count": 15,
   "metadata": {},
   "outputs": [],
   "source": [
    "from gensim.models import Word2Vec\n",
    "\n",
    "size_dim = 300 # Default number of dimensions of the embeddings. So no need to add separatley\n",
    "\n",
    "w2v_model = Word2Vec.load('word2vec/word2vec_300dim_20epochs.model')"
   ]
  },
  {
   "cell_type": "code",
   "execution_count": 16,
   "metadata": {},
   "outputs": [
    {
     "data": {
      "text/plain": [
       "(2059461, 2609250)"
      ]
     },
     "execution_count": 16,
     "metadata": {},
     "output_type": "execute_result"
    }
   ],
   "source": [
    "# Add new vocabulary to w2v_model\n",
    "w2v_model.build_vocab(X_train['no_stopwords_tweet'], update=True)\n",
    "\n",
    "# Train the Word2Vec Model\n",
    "w2v_model.train(X_train['no_stopwords_tweet'], total_examples=w2v_model.corpus_count, epochs=50)"
   ]
  },
  {
   "attachments": {},
   "cell_type": "markdown",
   "metadata": {},
   "source": [
    "## Feature Extraction"
   ]
  },
  {
   "cell_type": "code",
   "execution_count": 23,
   "metadata": {},
   "outputs": [],
   "source": [
    "from keras.preprocessing.text import Tokenizer\n",
    "\n",
    "tokenizer = Tokenizer()\n",
    "tokenizer.fit_on_texts(X_train.no_stopwords_tweet)\n",
    "X_train_seq = tokenizer.texts_to_sequences(X_train.no_stopwords_tweet)\n",
    "X_val_seq = tokenizer.texts_to_sequences(X_val.no_stopwords_tweet)\n",
    "X_test_seq = tokenizer.texts_to_sequences(X_test.no_stopwords_tweet)"
   ]
  },
  {
   "cell_type": "code",
   "execution_count": 24,
   "metadata": {},
   "outputs": [],
   "source": [
    "from keras.utils import pad_sequences\n",
    "\n",
    "max_seq_len = 50 # Define the maximum length of the sequence\n",
    "X_train_seq = pad_sequences(X_train_seq, maxlen=max_seq_len, padding='post', truncating='post')\n",
    "X_val_seq = pad_sequences(X_val_seq, maxlen=max_seq_len, padding='post', truncating='post')\n",
    "X_test_seq = pad_sequences(X_test_seq, maxlen=max_seq_len, padding='post', truncating='post')"
   ]
  },
  {
   "cell_type": "code",
   "execution_count": 25,
   "metadata": {},
   "outputs": [],
   "source": [
    "embedding_dim = size_dim # Define the embedding dimension\n",
    "vocab_size = len(tokenizer.word_index) + 1\n",
    "\n",
    "# Create a weight matrix for words in training docs\n",
    "embedding_matrix = np.zeros((vocab_size, size_dim))\n",
    "for word, i in tokenizer.word_index.items():\n",
    "    if word in w2v_model.wv:\n",
    "        embedding_matrix[i] = w2v_model.wv[word]"
   ]
  },
  {
   "cell_type": "code",
   "execution_count": 35,
   "metadata": {},
   "outputs": [],
   "source": [
    "# to categorical y_train and y_test\n",
    "from keras.utils import to_categorical\n",
    "\n",
    "y_train = Y_train['sentiment'].map({'Negative': 0, 'Positive': 1})\n",
    "y_val = Y_val.map({'Negative': 0, 'Positive': 1})\n",
    "y_test = Y_test.map({'Negative': 0, 'Positive': 1})"
   ]
  },
  {
   "cell_type": "code",
   "execution_count": 36,
   "metadata": {},
   "outputs": [
    {
     "data": {
      "text/plain": [
       "((3664,), (1047,), (524,))"
      ]
     },
     "execution_count": 36,
     "metadata": {},
     "output_type": "execute_result"
    }
   ],
   "source": [
    "y_train.shape, y_test.shape, y_val.shape"
   ]
  },
  {
   "attachments": {},
   "cell_type": "markdown",
   "metadata": {},
   "source": [
    "## Model Training"
   ]
  },
  {
   "attachments": {},
   "cell_type": "markdown",
   "metadata": {},
   "source": [
    "### Build and Train LSTM Model"
   ]
  },
  {
   "cell_type": "code",
   "execution_count": 37,
   "metadata": {},
   "outputs": [
    {
     "name": "stdout",
     "output_type": "stream",
     "text": [
      "Model: \"sequential\"\n",
      "_________________________________________________________________\n",
      " Layer (type)                Output Shape              Param #   \n",
      "=================================================================\n",
      " embedding (Embedding)       (None, 50, 300)           3324600   \n",
      "                                                                 \n",
      " lstm (LSTM)                 (None, 50, 128)           219648    \n",
      "                                                                 \n",
      " dropout (Dropout)           (None, 50, 128)           0         \n",
      "                                                                 \n",
      " lstm_1 (LSTM)               (None, 128)               131584    \n",
      "                                                                 \n",
      " dense (Dense)               (None, 1)                 129       \n",
      "                                                                 \n",
      "=================================================================\n",
      "Total params: 3,675,961\n",
      "Trainable params: 3,675,961\n",
      "Non-trainable params: 0\n",
      "_________________________________________________________________\n"
     ]
    }
   ],
   "source": [
    "from keras.models import Sequential\n",
    "from keras.layers import LSTM, Dense, Embedding, Dropout\n",
    "from keras.callbacks import EarlyStopping\n",
    "\n",
    "# Define the model architecture\n",
    "model = Sequential()\n",
    "model.add(Embedding(input_dim=vocab_size, output_dim=embedding_dim, weights=[embedding_matrix], input_length=max_seq_len, trainable=True))\n",
    "model.add(LSTM(units=128, dropout=0.2, recurrent_dropout=0.2, return_sequences=True))\n",
    "model.add(Dropout(0.3))\n",
    "model.add(LSTM(units=128, dropout=0.2, recurrent_dropout=0.2))\n",
    "\n",
    "# Output layer for binary classification\n",
    "model.add(Dense(1, activation='sigmoid'))\n",
    "\n",
    "# Compile the model\n",
    "model.compile(optimizer='adam', loss='binary_crossentropy', metrics=['accuracy'])\n",
    "model.summary()"
   ]
  },
  {
   "cell_type": "code",
   "execution_count": 38,
   "metadata": {},
   "outputs": [],
   "source": [
    "# Add early stopping to prevent overfitting\n",
    "early_stopping = EarlyStopping(monitor='val_loss', patience=3, mode='min')"
   ]
  },
  {
   "cell_type": "code",
   "execution_count": 39,
   "metadata": {},
   "outputs": [
    {
     "name": "stdout",
     "output_type": "stream",
     "text": [
      "Epoch 1/10\n",
      "115/115 [==============================] - 37s 247ms/step - loss: 0.6307 - accuracy: 0.6482 - val_loss: 0.5254 - val_accuracy: 0.7405\n",
      "Epoch 2/10\n",
      "115/115 [==============================] - 26s 222ms/step - loss: 0.5582 - accuracy: 0.7328 - val_loss: 0.5312 - val_accuracy: 0.7615\n",
      "Epoch 3/10\n",
      "115/115 [==============================] - 25s 215ms/step - loss: 0.4775 - accuracy: 0.7939 - val_loss: 0.5010 - val_accuracy: 0.7462\n",
      "Epoch 4/10\n",
      "115/115 [==============================] - 29s 252ms/step - loss: 0.4230 - accuracy: 0.8226 - val_loss: 0.4948 - val_accuracy: 0.7615\n",
      "Epoch 5/10\n",
      "115/115 [==============================] - 25s 218ms/step - loss: 0.3633 - accuracy: 0.8608 - val_loss: 0.5142 - val_accuracy: 0.7405\n",
      "Epoch 6/10\n",
      "115/115 [==============================] - 25s 219ms/step - loss: 0.3322 - accuracy: 0.8766 - val_loss: 0.5730 - val_accuracy: 0.7519\n",
      "Epoch 7/10\n",
      "115/115 [==============================] - 27s 238ms/step - loss: 0.2695 - accuracy: 0.9031 - val_loss: 0.5762 - val_accuracy: 0.7500\n"
     ]
    },
    {
     "data": {
      "text/plain": [
       "<keras.callbacks.History at 0x7f49e3415960>"
      ]
     },
     "execution_count": 39,
     "metadata": {},
     "output_type": "execute_result"
    }
   ],
   "source": [
    "# Fit the model to the training data\n",
    "model.fit(X_train_seq, y_train, epochs=10, batch_size=32, validation_data=(X_val_seq, y_val), callbacks=[early_stopping])"
   ]
  },
  {
   "cell_type": "code",
   "execution_count": 40,
   "metadata": {},
   "outputs": [
    {
     "name": "stdout",
     "output_type": "stream",
     "text": [
      "33/33 [==============================] - 1s 42ms/step - loss: 0.5975 - accuracy: 0.7612\n",
      "Test accuracy: 0.7612225413322449\n"
     ]
    }
   ],
   "source": [
    "# Test model\n",
    "test_loss, test_acc = model.evaluate(X_test_seq, y_test)\n",
    "print('Test accuracy:', test_acc)"
   ]
  },
  {
   "cell_type": "code",
   "execution_count": 41,
   "metadata": {},
   "outputs": [
    {
     "name": "stdout",
     "output_type": "stream",
     "text": [
      "33/33 [==============================] - 2s 52ms/step\n",
      "              precision    recall  f1-score   support\n",
      "\n",
      "           0       0.75      0.83      0.79       562\n",
      "           1       0.78      0.68      0.72       485\n",
      "\n",
      "    accuracy                           0.76      1047\n",
      "   macro avg       0.76      0.76      0.76      1047\n",
      "weighted avg       0.76      0.76      0.76      1047\n",
      "\n"
     ]
    }
   ],
   "source": [
    "# model evaluation: classification report and confusion matrix\n",
    "\n",
    "# Print classification report for binary classification\n",
    "y_pred = model.predict(X_test_seq)\n",
    "y_pred = np.round(y_pred).astype(int)\n",
    "print(classification_report(y_test, y_pred))"
   ]
  },
  {
   "cell_type": "code",
   "execution_count": 42,
   "metadata": {},
   "outputs": [
    {
     "data": {
      "image/png": "[encoded data removed]",
      "text/plain": [
       "<Figure size 640x480 with 2 Axes>"
      ]
     },
     "metadata": {},
     "output_type": "display_data"
    }
   ],
   "source": [
    "# plot confusion matrix\n",
    "import seaborn as sns\n",
    "\n",
    "# Confusion matrix for binary classification, rename the classes accordingly\n",
    "cm = confusion_matrix(y_test, y_pred)\n",
    "cm = pd.DataFrame(cm, index=['Negative', 'Positive'], columns=['Negative', 'Positive'])\n",
    "# Make it into percentage\n",
    "sns.heatmap(cm, annot=True, fmt='d', cmap='Blues');"
   ]
  },
  {
   "cell_type": "code",
   "execution_count": 43,
   "metadata": {},
   "outputs": [
    {
     "data": {
      "text/html": [
       "<div>\n",
       "<style scoped>\n",
       "    .dataframe tbody tr th:only-of-type {\n",
       "        vertical-align: middle;\n",
       "    }\n",
       "\n",
       "    .dataframe tbody tr th {\n",
       "        vertical-align: top;\n",
       "    }\n",
       "\n",
       "    .dataframe thead th {\n",
       "        text-align: right;\n",
       "    }\n",
       "</style>\n",
       "<table border=\"1\" class=\"dataframe\">\n",
       "  <thead>\n",
       "    <tr style=\"text-align: right;\">\n",
       "      <th></th>\n",
       "      <th>Negative</th>\n",
       "      <th>Positive</th>\n",
       "    </tr>\n",
       "  </thead>\n",
       "  <tbody>\n",
       "    <tr>\n",
       "      <th>Negative</th>\n",
       "      <td>469</td>\n",
       "      <td>93</td>\n",
       "    </tr>\n",
       "    <tr>\n",
       "      <th>Positive</th>\n",
       "      <td>157</td>\n",
       "      <td>328</td>\n",
       "    </tr>\n",
       "  </tbody>\n",
       "</table>\n",
       "</div>"
      ],
      "text/plain": [
       "          Negative  Positive\n",
       "Negative       469        93\n",
       "Positive       157       328"
      ]
     },
     "execution_count": 43,
     "metadata": {},
     "output_type": "execute_result"
    }
   ],
   "source": [
    "cm"
   ]
  },
  {
   "attachments": {},
   "cell_type": "markdown",
   "metadata": {},
   "source": [
    "## Build and Train Bidirectional LSTM model"
   ]
  },
  {
   "cell_type": "code",
   "execution_count": 44,
   "metadata": {},
   "outputs": [
    {
     "name": "stdout",
     "output_type": "stream",
     "text": [
      "Model: \"sequential_1\"\n",
      "_________________________________________________________________\n",
      " Layer (type)                Output Shape              Param #   \n",
      "=================================================================\n",
      " embedding_1 (Embedding)     (None, 50, 300)           3324600   \n",
      "                                                                 \n",
      " bidirectional (Bidirectiona  (None, 50, 256)          439296    \n",
      " l)                                                              \n",
      "                                                                 \n",
      " dropout_1 (Dropout)         (None, 50, 256)           0         \n",
      "                                                                 \n",
      " bidirectional_1 (Bidirectio  (None, 50, 128)          164352    \n",
      " nal)                                                            \n",
      "                                                                 \n",
      " dropout_2 (Dropout)         (None, 50, 128)           0         \n",
      "                                                                 \n",
      " bidirectional_2 (Bidirectio  (None, 64)               41216     \n",
      " nal)                                                            \n",
      "                                                                 \n",
      " dropout_3 (Dropout)         (None, 64)                0         \n",
      "                                                                 \n",
      " dense_1 (Dense)             (None, 1)                 65        \n",
      "                                                                 \n",
      "=================================================================\n",
      "Total params: 3,969,529\n",
      "Trainable params: 3,969,529\n",
      "Non-trainable params: 0\n",
      "_________________________________________________________________\n"
     ]
    }
   ],
   "source": [
    "from tensorflow.keras.layers import Bidirectional\n",
    "\n",
    "# Define the model architecture\n",
    "model_bilstm = Sequential()\n",
    "model_bilstm.add(Embedding(input_dim=vocab_size, output_dim=embedding_dim, weights=[embedding_matrix], input_length=max_seq_len, trainable=True))\n",
    "model_bilstm.add(Bidirectional(LSTM(units=128, dropout=0.2, recurrent_dropout=0.2, return_sequences=True)))\n",
    "model_bilstm.add(Dropout(0.3))\n",
    "model_bilstm.add(Bidirectional(LSTM(units=64, dropout=0.2, recurrent_dropout=0.2, return_sequences=True)))\n",
    "model_bilstm.add(Dropout(0.3))\n",
    "model_bilstm.add(Bidirectional(LSTM(units=32, dropout=0.2, recurrent_dropout=0.2)))\n",
    "model_bilstm.add(Dropout(0.3))\n",
    "\n",
    "# Output layer for binary classification\n",
    "model_bilstm.add(Dense(1, activation='sigmoid'))\n",
    "\n",
    "# Compile the model\n",
    "model_bilstm.compile(optimizer='adam', loss='binary_crossentropy', metrics=['accuracy'])\n",
    "\n",
    "model_bilstm.summary()"
   ]
  },
  {
   "cell_type": "code",
   "execution_count": 45,
   "metadata": {},
   "outputs": [
    {
     "name": "stdout",
     "output_type": "stream",
     "text": [
      "Epoch 1/10\n",
      "115/115 [==============================] - 67s 414ms/step - loss: 0.5583 - accuracy: 0.7115 - val_loss: 0.4918 - val_accuracy: 0.7424\n",
      "Epoch 2/10\n",
      "115/115 [==============================] - 42s 366ms/step - loss: 0.4462 - accuracy: 0.7975 - val_loss: 0.4639 - val_accuracy: 0.7729\n",
      "Epoch 3/10\n",
      "115/115 [==============================] - 42s 363ms/step - loss: 0.3510 - accuracy: 0.8447 - val_loss: 0.4989 - val_accuracy: 0.7615\n",
      "Epoch 4/10\n",
      "115/115 [==============================] - 46s 403ms/step - loss: 0.2439 - accuracy: 0.9094 - val_loss: 0.5956 - val_accuracy: 0.7576\n",
      "Epoch 5/10\n",
      "115/115 [==============================] - 43s 372ms/step - loss: 0.1690 - accuracy: 0.9405 - val_loss: 0.6744 - val_accuracy: 0.7557\n"
     ]
    },
    {
     "data": {
      "text/plain": [
       "<keras.callbacks.History at 0x7f49e32ef7c0>"
      ]
     },
     "execution_count": 45,
     "metadata": {},
     "output_type": "execute_result"
    }
   ],
   "source": [
    "# Fit the model to the training data\n",
    "model_bilstm.fit(X_train_seq, y_train, epochs=10, batch_size=32, validation_data=(X_val_seq, y_val), callbacks=[early_stopping])"
   ]
  },
  {
   "cell_type": "code",
   "execution_count": 46,
   "metadata": {},
   "outputs": [
    {
     "name": "stdout",
     "output_type": "stream",
     "text": [
      "33/33 [==============================] - 2s 55ms/step - loss: 0.6801 - accuracy: 0.7622\n",
      "Test accuracy: 0.7621776461601257\n"
     ]
    }
   ],
   "source": [
    "# Test model\n",
    "test_loss, test_acc = model_bilstm.evaluate(X_test_seq, y_test)\n",
    "print('Test accuracy:', test_acc)"
   ]
  },
  {
   "cell_type": "code",
   "execution_count": 47,
   "metadata": {},
   "outputs": [
    {
     "name": "stdout",
     "output_type": "stream",
     "text": [
      "33/33 [==============================] - 3s 59ms/step\n",
      "              precision    recall  f1-score   support\n",
      "\n",
      "           0       0.78      0.78      0.78       562\n",
      "           1       0.74      0.74      0.74       485\n",
      "\n",
      "    accuracy                           0.76      1047\n",
      "   macro avg       0.76      0.76      0.76      1047\n",
      "weighted avg       0.76      0.76      0.76      1047\n",
      "\n"
     ]
    }
   ],
   "source": [
    "# Print classification report for binary classification\n",
    "y_pred = model_bilstm.predict(X_test_seq)\n",
    "y_pred = np.round(y_pred).astype(int)\n",
    "print(classification_report(y_test, y_pred))"
   ]
  },
  {
   "cell_type": "code",
   "execution_count": 48,
   "metadata": {},
   "outputs": [
    {
     "data": {
      "image/png": "[encoded data removed]",
      "text/plain": [
       "<Figure size 640x480 with 2 Axes>"
      ]
     },
     "metadata": {},
     "output_type": "display_data"
    }
   ],
   "source": [
    "# plot confusion matrix+\n",
    "# Confusion matrix for binary classification, rename the classes accordingly\n",
    "cm = confusion_matrix(y_test, y_pred)\n",
    "cm = pd.DataFrame(cm, index=['Negative', 'Positive'], columns=['Negative', 'Positive'])\n",
    "# Make it into percentage\n",
    "sns.heatmap(cm, annot=True, fmt='d', cmap='Blues');"
   ]
  },
  {
   "attachments": {},
   "cell_type": "markdown",
   "metadata": {},
   "source": [
    "### Build and Train CNN + LSTM Model"
   ]
  },
  {
   "cell_type": "code",
   "execution_count": 56,
   "metadata": {},
   "outputs": [
    {
     "data": {
      "text/plain": [
       "11082"
      ]
     },
     "execution_count": 56,
     "metadata": {},
     "output_type": "execute_result"
    }
   ],
   "source": []
  },
  {
   "cell_type": "code",
   "execution_count": 57,
   "metadata": {},
   "outputs": [
    {
     "name": "stdout",
     "output_type": "stream",
     "text": [
      "Model: \"sequential_3\"\n",
      "_________________________________________________________________\n",
      " Layer (type)                Output Shape              Param #   \n",
      "=================================================================\n",
      " embedding_3 (Embedding)     (None, 50, 300)           3324600   \n",
      "                                                                 \n",
      " dropout_4 (Dropout)         (None, 50, 300)           0         \n",
      "                                                                 \n",
      " conv1d (Conv1D)             (None, 50, 80)            24080     \n",
      "                                                                 \n",
      " conv1d_1 (Conv1D)           (None, 49, 80)            12880     \n",
      "                                                                 \n",
      " conv1d_2 (Conv1D)           (None, 47, 80)            19280     \n",
      "                                                                 \n",
      " max_pooling1d (MaxPooling1D  (None, 23, 80)           0         \n",
      " )                                                               \n",
      "                                                                 \n",
      " lstm_5 (LSTM)               (None, 23, 128)           107008    \n",
      "                                                                 \n",
      " flatten (Flatten)           (None, 2944)              0         \n"
     ]
    },
    {
     "name": "stderr",
     "output_type": "stream",
     "text": [
      "2023-05-13 10:06:08.331336: I tensorflow/core/common_runtime/executor.cc:1197] [/device:CPU:0] (DEBUG INFO) Executor start aborting (this does not indicate an error and you can ignore this message): INVALID_ARGUMENT: You must feed a value for placeholder tensor 'gradients/split_2_grad/concat/split_2/split_dim' with dtype int32\n",
      "\t [[{{node gradients/split_2_grad/concat/split_2/split_dim}}]]\n",
      "2023-05-13 10:06:08.354031: I tensorflow/core/common_runtime/executor.cc:1197] [/device:CPU:0] (DEBUG INFO) Executor start aborting (this does not indicate an error and you can ignore this message): INVALID_ARGUMENT: You must feed a value for placeholder tensor 'gradients/split_grad/concat/split/split_dim' with dtype int32\n",
      "\t [[{{node gradients/split_grad/concat/split/split_dim}}]]\n",
      "2023-05-13 10:06:08.361265: I tensorflow/core/common_runtime/executor.cc:1197] [/device:CPU:0] (DEBUG INFO) Executor start aborting (this does not indicate an error and you can ignore this message): INVALID_ARGUMENT: You must feed a value for placeholder tensor 'gradients/split_1_grad/concat/split_1/split_dim' with dtype int32\n",
      "\t [[{{node gradients/split_1_grad/concat/split_1/split_dim}}]]\n"
     ]
    },
    {
     "name": "stdout",
     "output_type": "stream",
     "text": [
      "                                                                 \n",
      " dense_2 (Dense)             (None, 80)                235600    \n",
      "                                                                 \n",
      " dropout_5 (Dropout)         (None, 80)                0         \n",
      "                                                                 \n",
      " dense_3 (Dense)             (None, 1)                 81        \n",
      "                                                                 \n",
      "=================================================================\n",
      "Total params: 3,723,529\n",
      "Trainable params: 3,723,529\n",
      "Non-trainable params: 0\n",
      "_________________________________________________________________\n"
     ]
    }
   ],
   "source": [
    "from keras.models import Sequential\n",
    "from keras.layers import Dense, Dropout, Activation, Embedding, LSTM, Conv1D, MaxPooling1D, Flatten\n",
    "from keras.optimizers import Adam\n",
    "from tensorflow.keras.regularizers import l2\n",
    "\n",
    "# Define hyperparameters\n",
    "max_features = embedding_matrix.shape[0]  # Maximum number of words in the vocabulary\n",
    "max_seq_len = 50  # Maximum length of input sequences\n",
    "embedding_dim = 300  # Size of word embeddings\n",
    "num_filters = 80  # Number of filters in each convolutional layer\n",
    "filter_sizes = [1, 2, 3]  # Sizes of filters in each convolutional layer\n",
    "lstm_units = 128  # Number of LSTM units\n",
    "dropout_rate = 0.3  # Dropout rate\n",
    "l2_coef = 0.1  # L2 regularization coefficient\n",
    "batch_size = 32  # Batch size\n",
    "epochs = 10  # Number of epochs\n",
    "\n",
    "# Define the model architecture\n",
    "model_cnn_lstm = Sequential()\n",
    "model_cnn_lstm.add(Embedding(input_dim=max_features, output_dim=embedding_dim, weights=[embedding_matrix], input_length=max_seq_len, trainable=True))\n",
    "model_cnn_lstm.add(Dropout(dropout_rate))\n",
    "model_cnn_lstm.add(Conv1D(num_filters, filter_sizes[0], padding='valid', activation='relu', strides=1))\n",
    "model_cnn_lstm.add(Conv1D(num_filters, filter_sizes[1], padding='valid', activation='relu', strides=1))\n",
    "model_cnn_lstm.add(Conv1D(num_filters, filter_sizes[2], padding='valid', activation='relu', strides=1))\n",
    "model_cnn_lstm.add(MaxPooling1D(pool_size=2))\n",
    "model_cnn_lstm.add(LSTM(lstm_units, return_sequences=True))\n",
    "model_cnn_lstm.add(Flatten())\n",
    "model_cnn_lstm.add(Dense(num_filters, activation='relu', kernel_regularizer=l2(l2_coef)))\n",
    "model_cnn_lstm.add(Dropout(dropout_rate))\n",
    "\n",
    "# Output layer for binary classification\n",
    "model_cnn_lstm.add(Dense(1, activation='sigmoid'))\n",
    "\n",
    "# Compile the model\n",
    "optimizer = Adam()\n",
    "model_cnn_lstm.compile(optimizer=optimizer, loss='binary_crossentropy', metrics=['accuracy'])\n",
    "\n",
    "model_cnn_lstm.summary()"
   ]
  },
  {
   "cell_type": "code",
   "execution_count": 60,
   "metadata": {},
   "outputs": [
    {
     "name": "stdout",
     "output_type": "stream",
     "text": [
      "Epoch 1/10\n",
      "115/115 [==============================] - 7s 61ms/step - loss: 0.2137 - accuracy: 0.9410 - val_loss: 0.6918 - val_accuracy: 0.7519\n",
      "Epoch 2/10\n",
      "115/115 [==============================] - 7s 58ms/step - loss: 0.1655 - accuracy: 0.9536 - val_loss: 0.7867 - val_accuracy: 0.7462\n",
      "Epoch 3/10\n",
      "115/115 [==============================] - 7s 60ms/step - loss: 0.1246 - accuracy: 0.9653 - val_loss: 0.6767 - val_accuracy: 0.7576\n",
      "Epoch 4/10\n",
      "115/115 [==============================] - 7s 59ms/step - loss: 0.1344 - accuracy: 0.9692 - val_loss: 0.7925 - val_accuracy: 0.7424\n",
      "Epoch 5/10\n",
      "115/115 [==============================] - 7s 60ms/step - loss: 0.1028 - accuracy: 0.9738 - val_loss: 0.9748 - val_accuracy: 0.7462\n",
      "Epoch 6/10\n",
      "115/115 [==============================] - 7s 59ms/step - loss: 0.1073 - accuracy: 0.9708 - val_loss: 0.9004 - val_accuracy: 0.7366\n"
     ]
    },
    {
     "data": {
      "text/plain": [
       "<keras.callbacks.History at 0x7f494d699ff0>"
      ]
     },
     "execution_count": 60,
     "metadata": {},
     "output_type": "execute_result"
    }
   ],
   "source": [
    "# Add early stopping to prevent overfitting\n",
    "early_stopping = EarlyStopping(monitor='val_loss', patience=3, mode='min')\n",
    "\n",
    "# Train model\n",
    "\n",
    "model_cnn_lstm.fit(X_train_seq, y_train, epochs=epochs, batch_size=batch_size, validation_data=(X_val_seq, y_val), callbacks=[early_stopping])"
   ]
  },
  {
   "cell_type": "code",
   "execution_count": 61,
   "metadata": {},
   "outputs": [
    {
     "name": "stdout",
     "output_type": "stream",
     "text": [
      "33/33 [==============================] - 0s 12ms/step - loss: 0.9406 - accuracy: 0.7307\n",
      "Test accuracy: 0.730659008026123\n"
     ]
    }
   ],
   "source": [
    "# Test model\n",
    "test_loss, test_acc = model_cnn_lstm.evaluate(X_test_seq, y_test)\n",
    "print('Test accuracy:', test_acc)"
   ]
  },
  {
   "cell_type": "code",
   "execution_count": 62,
   "metadata": {},
   "outputs": [
    {
     "name": "stdout",
     "output_type": "stream",
     "text": [
      " 1/33 [..............................] - ETA: 15s"
     ]
    },
    {
     "name": "stderr",
     "output_type": "stream",
     "text": [
      "2023-05-13 10:08:36.062625: I tensorflow/core/common_runtime/executor.cc:1197] [/device:CPU:0] (DEBUG INFO) Executor start aborting (this does not indicate an error and you can ignore this message): INVALID_ARGUMENT: You must feed a value for placeholder tensor 'gradients/split_2_grad/concat/split_2/split_dim' with dtype int32\n",
      "\t [[{{node gradients/split_2_grad/concat/split_2/split_dim}}]]\n",
      "2023-05-13 10:08:36.064381: I tensorflow/core/common_runtime/executor.cc:1197] [/device:CPU:0] (DEBUG INFO) Executor start aborting (this does not indicate an error and you can ignore this message): INVALID_ARGUMENT: You must feed a value for placeholder tensor 'gradients/split_grad/concat/split/split_dim' with dtype int32\n",
      "\t [[{{node gradients/split_grad/concat/split/split_dim}}]]\n",
      "2023-05-13 10:08:36.065798: I tensorflow/core/common_runtime/executor.cc:1197] [/device:CPU:0] (DEBUG INFO) Executor start aborting (this does not indicate an error and you can ignore this message): INVALID_ARGUMENT: You must feed a value for placeholder tensor 'gradients/split_1_grad/concat/split_1/split_dim' with dtype int32\n",
      "\t [[{{node gradients/split_1_grad/concat/split_1/split_dim}}]]\n"
     ]
    },
    {
     "name": "stdout",
     "output_type": "stream",
     "text": [
      "33/33 [==============================] - 1s 15ms/step\n",
      "              precision    recall  f1-score   support\n",
      "\n",
      "           0       0.74      0.76      0.75       562\n",
      "           1       0.72      0.69      0.70       485\n",
      "\n",
      "    accuracy                           0.73      1047\n",
      "   macro avg       0.73      0.73      0.73      1047\n",
      "weighted avg       0.73      0.73      0.73      1047\n",
      "\n"
     ]
    }
   ],
   "source": [
    "# Print classification report for binary classification\n",
    "y_pred = model_cnn_lstm.predict(X_test_seq)\n",
    "y_pred = np.where(y_pred > 0.5, 1, 0)\n",
    "print(classification_report(y_test, y_pred))"
   ]
  },
  {
   "cell_type": "code",
   "execution_count": 63,
   "metadata": {},
   "outputs": [
    {
     "data": {
      "text/plain": [
       "<Axes: >"
      ]
     },
     "execution_count": 63,
     "metadata": {},
     "output_type": "execute_result"
    },
    {
     "data": {
      "image/png": "[encoded data removed]",
      "text/plain": [
       "<Figure size 640x480 with 2 Axes>"
      ]
     },
     "metadata": {},
     "output_type": "display_data"
    }
   ],
   "source": [
    "# plot confusion matrix\n",
    "import seaborn as sns\n",
    "\n",
    "cm = confusion_matrix(y_test, y_pred)\n",
    "cm = cm.astype('float') / cm.sum(axis=1)[:, np.newaxis]\n",
    "sns.heatmap(cm, annot=True, cmap='Blues')"
   ]
  },
  {
   "attachments": {},
   "cell_type": "markdown",
   "metadata": {},
   "source": [
    "## Build and Train CNN Model"
   ]
  },
  {
   "cell_type": "code",
   "execution_count": 64,
   "metadata": {},
   "outputs": [
    {
     "name": "stdout",
     "output_type": "stream",
     "text": [
      "Model: \"sequential_4\"\n",
      "_________________________________________________________________\n",
      " Layer (type)                Output Shape              Param #   \n",
      "=================================================================\n",
      " embedding_4 (Embedding)     (None, 50, 300)           3324600   \n",
      "                                                                 \n",
      " conv1d_3 (Conv1D)           (None, 48, 32)            28832     \n",
      "                                                                 \n",
      " conv1d_4 (Conv1D)           (None, 44, 64)            10304     \n",
      "                                                                 \n",
      " global_max_pooling1d (Globa  (None, 64)               0         \n",
      " lMaxPooling1D)                                                  \n",
      "                                                                 \n",
      " dense_4 (Dense)             (None, 128)               8320      \n",
      "                                                                 \n",
      " dense_5 (Dense)             (None, 64)                8256      \n",
      "                                                                 \n",
      " dropout_6 (Dropout)         (None, 64)                0         \n",
      "                                                                 \n",
      " dense_6 (Dense)             (None, 1)                 65        \n",
      "                                                                 \n",
      "=================================================================\n",
      "Total params: 3,380,377\n",
      "Trainable params: 3,380,377\n",
      "Non-trainable params: 0\n",
      "_________________________________________________________________\n"
     ]
    }
   ],
   "source": [
    "from keras.models import Sequential\n",
    "from keras.layers import Dense, Embedding, Conv1D, GlobalMaxPooling1D, Dropout\n",
    "from keras.optimizers import Adamax\n",
    "from keras.regularizers import l2\n",
    "from keras.callbacks import EarlyStopping\n",
    "from sklearn.utils import class_weight\n",
    "\n",
    "# Create CNN model\n",
    "model_cnn = Sequential()\n",
    "\n",
    "# Add trainable embedding layer\n",
    "model_cnn.add(Embedding(input_dim=max_features, output_dim=embedding_dim, weights=[embedding_matrix], input_length=max_seq_len, trainable=True))\n",
    "\n",
    "# Add two convolutional layers with increasing filters and kernel sizes\n",
    "model_cnn.add(Conv1D(filters=32, kernel_size=3, activation='relu'))\n",
    "model_cnn.add(Conv1D(filters=64, kernel_size=5, activation='relu'))\n",
    "\n",
    "# Add global max pooling layer\n",
    "model_cnn.add(GlobalMaxPooling1D())\n",
    "\n",
    "# Add two dense layers with ReLU activation and L2 regularization\n",
    "model_cnn.add(Dense(units=128, activation='relu', kernel_regularizer=l2(0.01)))\n",
    "model_cnn.add(Dense(units=64, activation='relu', kernel_regularizer=l2(0.01)))\n",
    "\n",
    "# Add dropout layer with a rate of 0.5\n",
    "model_cnn.add(Dropout(0.5))\n",
    "\n",
    "# Add output layer with 3 units and softmax activation for multi-class classification\n",
    "model_cnn.add(Dense(units=1, activation='sigmoid'))\n",
    "\n",
    "# Compile the model with categorical cross-entropy loss, Adamax optimizer and accuracy metric\n",
    "optimizer = Adam(learning_rate=0.001)\n",
    "model_cnn.compile(loss='binary_crossentropy', optimizer=optimizer, metrics=['accuracy'])\n",
    "\n",
    "# Define class weights for imbalanced dataset\n",
    "# class_weights = class_weight.compute_class_weight(class_weight='balanced', classes=np.unique(y_train))\n",
    "\n",
    "model_cnn.summary()"
   ]
  },
  {
   "cell_type": "code",
   "execution_count": 65,
   "metadata": {},
   "outputs": [
    {
     "name": "stdout",
     "output_type": "stream",
     "text": [
      "Epoch 1/20\n",
      "115/115 [==============================] - 6s 42ms/step - loss: 1.6788 - accuracy: 0.6487 - val_loss: 1.1219 - val_accuracy: 0.7405\n",
      "Epoch 2/20\n",
      "115/115 [==============================] - 4s 35ms/step - loss: 0.9239 - accuracy: 0.7576 - val_loss: 0.7782 - val_accuracy: 0.7557\n",
      "Epoch 3/20\n",
      "115/115 [==============================] - 4s 35ms/step - loss: 0.5937 - accuracy: 0.8515 - val_loss: 0.7034 - val_accuracy: 0.7634\n",
      "Epoch 4/20\n",
      "115/115 [==============================] - 4s 32ms/step - loss: 0.3629 - accuracy: 0.9315 - val_loss: 0.7805 - val_accuracy: 0.7328\n",
      "Epoch 5/20\n",
      "115/115 [==============================] - 4s 34ms/step - loss: 0.2376 - accuracy: 0.9623 - val_loss: 0.8727 - val_accuracy: 0.6908\n",
      "Epoch 6/20\n",
      "115/115 [==============================] - 4s 32ms/step - loss: 0.1761 - accuracy: 0.9765 - val_loss: 1.0274 - val_accuracy: 0.6870\n"
     ]
    },
    {
     "data": {
      "text/plain": [
       "<keras.callbacks.History at 0x7f498ffa6230>"
      ]
     },
     "execution_count": 65,
     "metadata": {},
     "output_type": "execute_result"
    }
   ],
   "source": [
    "# Train the model with class weights and early stopping\n",
    "model_cnn.fit(X_train_seq, y_train, epochs=20, batch_size=32, validation_data=(X_val_seq, y_val), callbacks=[early_stopping])"
   ]
  },
  {
   "cell_type": "code",
   "execution_count": 66,
   "metadata": {},
   "outputs": [
    {
     "name": "stdout",
     "output_type": "stream",
     "text": [
      "33/33 [==============================] - 0s 5ms/step - loss: 1.1420 - accuracy: 0.6638\n",
      "Test accuracy: 0.6638013124465942\n"
     ]
    }
   ],
   "source": [
    "# Test model\n",
    "test_loss, test_acc = model_cnn.evaluate(X_test_seq, y_test)\n",
    "print('Test accuracy:', test_acc)"
   ]
  }
 ],
 "metadata": {
  "kernelspec": {
   "display_name": ".venv",
   "language": "python",
   "name": "python3"
  },
  "language_info": {
   "codemirror_mode": {
    "name": "ipython",
    "version": 3
   },
   "file_extension": ".py",
   "mimetype": "text/x-python",
   "name": "python",
   "nbconvert_exporter": "python",
   "pygments_lexer": "ipython3",
   "version": "3.10.6"
  },
  "orig_nbformat": 4
 },
 "nbformat": 4,
 "nbformat_minor": 2
}
