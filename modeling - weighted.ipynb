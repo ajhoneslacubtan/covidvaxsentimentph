{
 "cells": [
  {
   "cell_type": "code",
   "execution_count": 33,
   "metadata": {},
   "outputs": [],
   "source": [
    "import pandas as pd\n",
    "import numpy as np\n",
    "import matplotlib.pyplot as plt\n",
    "\n",
    "from sklearn.model_selection import train_test_split\n",
    "from sklearn.metrics import confusion_matrix, classification_report\n",
    "\n",
    "from gensim.models import Word2Vec\n",
    "\n",
    "from keras.callbacks import EarlyStopping"
   ]
  },
  {
   "attachments": {},
   "cell_type": "markdown",
   "metadata": {},
   "source": [
    "## Load Data"
   ]
  },
  {
   "cell_type": "code",
   "execution_count": 2,
   "metadata": {},
   "outputs": [],
   "source": [
    "# Load data, read tokenized_tweet, stemmed_tweet, and no_stopwords_tweet as a list\n",
    "df = pd.read_pickle('data/preprocessed_data.pkl')"
   ]
  },
  {
   "cell_type": "code",
   "execution_count": 3,
   "metadata": {},
   "outputs": [
    {
     "data": {
      "text/plain": [
       "(5235, 10)"
      ]
     },
     "execution_count": 3,
     "metadata": {},
     "output_type": "execute_result"
    }
   ],
   "source": [
    "# Remove Neutral tweets\n",
    "\n",
    "df = df[df['sentiment'] != 'Neutral']\n",
    "df.shape"
   ]
  },
  {
   "attachments": {},
   "cell_type": "markdown",
   "metadata": {},
   "source": [
    "## Train and Test Split"
   ]
  },
  {
   "cell_type": "code",
   "execution_count": 4,
   "metadata": {},
   "outputs": [
    {
     "name": "stdout",
     "output_type": "stream",
     "text": [
      "Value counts for Train sentiments\n",
      "sentiment\n",
      "Negative    1968\n",
      "Positive    1696\n",
      "Name: count, dtype: int64\n",
      "Value counts for Test sentiments\n",
      "sentiment\n",
      "Negative    844\n",
      "Positive    727\n",
      "Name: count, dtype: int64\n",
      "<class 'pandas.core.frame.DataFrame'>\n",
      "<class 'pandas.core.series.Series'>\n",
      "   index         vaccine                                 no_stopwords_tweet\n",
      "0   5138         moderna  [moderna, dose, today, yey, avip, gotyourvacc,...\n",
      "1   1951  Not Applicable  [naman, po, ata, discrimination, management, p...\n",
      "2   8444          Pfizer  [pfizer, transparent, results, vaccine, studie...\n",
      "3   8472          Pfizer        [mas, tiwala, tawa, pfizer, sinovac, china]\n",
      "4    802         Sinovac  [sinovac, manufacturing, vaccines, polio, hepa...\n"
     ]
    }
   ],
   "source": [
    "# Train Test Split Function\n",
    "def split_train_test(df, test_size=0.3, shuffle_state=True):\n",
    "    X_train, X_test, Y_train, Y_test = train_test_split(df[['vaccine', 'no_stopwords_tweet']], \n",
    "                                                        df['sentiment'], \n",
    "                                                        shuffle=shuffle_state,\n",
    "                                                        test_size=test_size, \n",
    "                                                        random_state=15,\n",
    "                                                        stratify=df['sentiment'])\n",
    "    print(\"Value counts for Train sentiments\")\n",
    "    print(Y_train.value_counts())\n",
    "    \n",
    "    print(\"Value counts for Test sentiments\")\n",
    "    print(Y_test.value_counts())\n",
    "    print(type(X_train))\n",
    "    print(type(Y_train))\n",
    "    X_train = X_train.reset_index()\n",
    "    X_test = X_test.reset_index()\n",
    "    Y_train = Y_train.to_frame()\n",
    "    Y_train = Y_train.reset_index()\n",
    "    Y_test = Y_test.to_frame()\n",
    "    Y_test = Y_test.reset_index()\n",
    "    print(X_train.head())\n",
    "    return X_train, X_test, Y_train, Y_test\n",
    "\n",
    "# Call the train_test_split\n",
    "X_train, X_test, Y_train, Y_test = split_train_test(df)"
   ]
  },
  {
   "cell_type": "code",
   "execution_count": 5,
   "metadata": {},
   "outputs": [],
   "source": [
    "# Create X_val and Y_val from X_test and Y_test\n",
    "X_test, X_val, Y_test, Y_val = train_test_split(X_test[['vaccine', 'no_stopwords_tweet']],\n",
    "                                                Y_test['sentiment'],\n",
    "                                                shuffle=True,\n",
    "                                                test_size=0.333,\n",
    "                                                random_state=15,\n",
    "                                                stratify=Y_test['sentiment'])"
   ]
  },
  {
   "attachments": {},
   "cell_type": "markdown",
   "metadata": {},
   "source": [
    "## Generate word2vec model"
   ]
  },
  {
   "cell_type": "code",
   "execution_count": 8,
   "metadata": {},
   "outputs": [],
   "source": [
    "from gensim.models import Word2Vec\n",
    "\n",
    "size_dim = 300 # Default number of dimensions of the embeddings. So no need to add separatley\n",
    "\n",
    "w2v_model = Word2Vec.load('word2vec/word2vec_300dim_20epochs.model')"
   ]
  },
  {
   "cell_type": "code",
   "execution_count": 9,
   "metadata": {},
   "outputs": [
    {
     "data": {
      "text/plain": [
       "(2059584, 2609250)"
      ]
     },
     "execution_count": 9,
     "metadata": {},
     "output_type": "execute_result"
    }
   ],
   "source": [
    "# Add new vocabulary to w2v_model\n",
    "w2v_model.build_vocab(X_train['no_stopwords_tweet'], update=True)\n",
    "\n",
    "# Train the Word2Vec Model\n",
    "w2v_model.train(X_train['no_stopwords_tweet'], total_examples=w2v_model.corpus_count, epochs=50)"
   ]
  },
  {
   "attachments": {},
   "cell_type": "markdown",
   "metadata": {},
   "source": [
    "## Feature Extraction"
   ]
  },
  {
   "cell_type": "code",
   "execution_count": 10,
   "metadata": {},
   "outputs": [],
   "source": [
    "from keras.preprocessing.text import Tokenizer\n",
    "\n",
    "tokenizer = Tokenizer()\n",
    "tokenizer.fit_on_texts(X_train.no_stopwords_tweet)\n",
    "X_train_seq = tokenizer.texts_to_sequences(X_train.no_stopwords_tweet)\n",
    "X_val_seq = tokenizer.texts_to_sequences(X_val.no_stopwords_tweet)\n",
    "X_test_seq = tokenizer.texts_to_sequences(X_test.no_stopwords_tweet)"
   ]
  },
  {
   "cell_type": "code",
   "execution_count": 11,
   "metadata": {},
   "outputs": [],
   "source": [
    "from keras.utils import pad_sequences\n",
    "\n",
    "max_seq_len = 50 # Define the maximum length of the sequence\n",
    "X_train_seq = pad_sequences(X_train_seq, maxlen=max_seq_len, padding='post', truncating='post')\n",
    "X_val_seq = pad_sequences(X_val_seq, maxlen=max_seq_len, padding='post', truncating='post')\n",
    "X_test_seq = pad_sequences(X_test_seq, maxlen=max_seq_len, padding='post', truncating='post')"
   ]
  },
  {
   "cell_type": "code",
   "execution_count": 22,
   "metadata": {},
   "outputs": [],
   "source": [
    "# TF-IDF Vectorizer\n",
    "from sklearn.feature_extraction.text import TfidfVectorizer\n",
    "\n",
    "texts = df['no_stopwords_tweet'].map(lambda x: ' '.join(x))\n",
    "\n",
    "tfidf = TfidfVectorizer()\n",
    "tfidf_scores = tfidf.fit_transform(texts)\n",
    "\n",
    "# Create a dictionary of word-to-TF-IDF mappings\n",
    "word2tfidf = dict(zip(tfidf.get_feature_names_out(), tfidf.idf_))"
   ]
  },
  {
   "cell_type": "code",
   "execution_count": 23,
   "metadata": {},
   "outputs": [],
   "source": [
    "embedding_dim = w2v_model.vector_size # Get the size of the word embeddings\n",
    "vocab_size = len(tfidf.vocabulary_)\n",
    "\n",
    "# Create an embedding matrix \n",
    "np.random.seed(15)\n",
    "embedding_matrix = np.random.rand(len(tfidf.vocabulary_), embedding_dim)\n",
    "\n",
    "for word, i in tfidf.vocabulary_.items():\n",
    "    if word in w2v_model.wv.key_to_index:\n",
    "        embedding_vector = w2v_model.wv[word]\n",
    "        tfidf_weight = word2tfidf.get(word)\n",
    "        embedding_matrix[i] = embedding_vector * tfidf_weight"
   ]
  },
  {
   "cell_type": "code",
   "execution_count": 24,
   "metadata": {},
   "outputs": [],
   "source": [
    "y_train = Y_train['sentiment'].map({'Negative': 0, 'Positive': 1})\n",
    "y_val = Y_val.map({'Negative': 0, 'Positive': 1})\n",
    "y_test = Y_test.map({'Negative': 0, 'Positive': 1})"
   ]
  },
  {
   "cell_type": "code",
   "execution_count": 25,
   "metadata": {},
   "outputs": [
    {
     "data": {
      "text/plain": [
       "((3664,), (1047,), (524,))"
      ]
     },
     "execution_count": 25,
     "metadata": {},
     "output_type": "execute_result"
    }
   ],
   "source": [
    "y_train.shape, y_test.shape, y_val.shape"
   ]
  },
  {
   "attachments": {},
   "cell_type": "markdown",
   "metadata": {},
   "source": [
    "## Build and Train LSTM Model"
   ]
  },
  {
   "cell_type": "code",
   "execution_count": 26,
   "metadata": {},
   "outputs": [
    {
     "name": "stdout",
     "output_type": "stream",
     "text": [
      "Model: \"sequential_1\"\n",
      "_________________________________________________________________\n",
      " Layer (type)                Output Shape              Param #   \n",
      "=================================================================\n",
      " embedding_1 (Embedding)     (None, 50, 300)           4154400   \n",
      "                                                                 \n",
      " lstm_2 (LSTM)               (None, 50, 128)           219648    \n",
      "                                                                 \n",
      " dropout_1 (Dropout)         (None, 50, 128)           0         \n",
      "                                                                 \n",
      " lstm_3 (LSTM)               (None, 128)               131584    \n",
      "                                                                 \n",
      " dense_1 (Dense)             (None, 1)                 129       \n",
      "                                                                 \n",
      "=================================================================\n",
      "Total params: 4,505,761\n",
      "Trainable params: 4,505,761\n",
      "Non-trainable params: 0\n",
      "_________________________________________________________________\n"
     ]
    }
   ],
   "source": [
    "from keras.models import Sequential\n",
    "from keras.layers import LSTM, Dense, Embedding, Dropout\n",
    "from keras.callbacks import EarlyStopping\n",
    "\n",
    "# Define the model architecture\n",
    "model = Sequential()\n",
    "model.add(Embedding(input_dim=vocab_size, output_dim=embedding_dim, weights=[embedding_matrix], input_length=max_seq_len, trainable=True))\n",
    "model.add(LSTM(units=128, dropout=0.2, recurrent_dropout=0.2, return_sequences=True))\n",
    "model.add(Dropout(0.3))\n",
    "model.add(LSTM(units=128, dropout=0.2, recurrent_dropout=0.2))\n",
    "# Output layer for binary classification\n",
    "model.add(Dense(1, activation='sigmoid'))\n",
    "\n",
    "# Compile the model\n",
    "model.compile(optimizer='adam', loss='binary_crossentropy', metrics=['accuracy'])\n",
    "model.summary()"
   ]
  },
  {
   "cell_type": "code",
   "execution_count": 27,
   "metadata": {},
   "outputs": [],
   "source": [
    "# Add early stopping to prevent overfitting\n",
    "early_stopping = EarlyStopping(monitor='val_loss', patience=3, mode='min')"
   ]
  },
  {
   "cell_type": "code",
   "execution_count": 30,
   "metadata": {},
   "outputs": [
    {
     "name": "stdout",
     "output_type": "stream",
     "text": [
      "Epoch 1/10\n",
      "115/115 [==============================] - 25s 217ms/step - loss: 0.5368 - accuracy: 0.7366 - val_loss: 0.6321 - val_accuracy: 0.6832\n",
      "Epoch 2/10\n",
      "115/115 [==============================] - 23s 200ms/step - loss: 0.4982 - accuracy: 0.7688 - val_loss: 0.6272 - val_accuracy: 0.6851\n",
      "Epoch 3/10\n",
      "115/115 [==============================] - 23s 200ms/step - loss: 0.4376 - accuracy: 0.8068 - val_loss: 0.6428 - val_accuracy: 0.7099\n",
      "Epoch 4/10\n",
      "115/115 [==============================] - 23s 203ms/step - loss: 0.3932 - accuracy: 0.8362 - val_loss: 0.6359 - val_accuracy: 0.6985\n",
      "Epoch 5/10\n",
      "115/115 [==============================] - 23s 197ms/step - loss: 0.3662 - accuracy: 0.8543 - val_loss: 0.6754 - val_accuracy: 0.7080\n"
     ]
    },
    {
     "data": {
      "text/plain": [
       "<keras.callbacks.History at 0x7f7fec22f4f0>"
      ]
     },
     "execution_count": 30,
     "metadata": {},
     "output_type": "execute_result"
    }
   ],
   "source": [
    "# Fit the model to the training data\n",
    "model.fit(X_train_seq, y_train, epochs=15, batch_size=32, validation_data=(X_val_seq, y_val), callbacks=[early_stopping])"
   ]
  },
  {
   "cell_type": "code",
   "execution_count": 31,
   "metadata": {},
   "outputs": [
    {
     "name": "stdout",
     "output_type": "stream",
     "text": [
      "33/33 [==============================] - 1s 31ms/step - loss: 0.7170 - accuracy: 0.6896\n",
      "Test accuracy: 0.6895893216133118\n"
     ]
    }
   ],
   "source": [
    "# Test model\n",
    "test_loss, test_acc = model.evaluate(X_test_seq, y_test)\n",
    "print('Test accuracy:', test_acc)"
   ]
  },
  {
   "cell_type": "code",
   "execution_count": 34,
   "metadata": {},
   "outputs": [
    {
     "name": "stdout",
     "output_type": "stream",
     "text": [
      "33/33 [==============================] - 1s 37ms/step\n",
      "              precision    recall  f1-score   support\n",
      "\n",
      "           0       0.68      0.78      0.73       562\n",
      "           1       0.70      0.58      0.63       485\n",
      "\n",
      "    accuracy                           0.69      1047\n",
      "   macro avg       0.69      0.68      0.68      1047\n",
      "weighted avg       0.69      0.69      0.69      1047\n",
      "\n"
     ]
    }
   ],
   "source": [
    "# model evaluation: classification report and confusion matrix\n",
    "\n",
    "# Print classification report for binary classification\n",
    "y_pred = model.predict(X_test_seq)\n",
    "y_pred = np.round(y_pred).astype(int)\n",
    "print(classification_report(y_test, y_pred))"
   ]
  },
  {
   "cell_type": "code",
   "execution_count": 35,
   "metadata": {},
   "outputs": [
    {
     "data": {
      "image/png": "[encoded data removed]",
      "text/plain": [
       "<Figure size 640x480 with 2 Axes>"
      ]
     },
     "metadata": {},
     "output_type": "display_data"
    }
   ],
   "source": [
    "# plot confusion matrix\n",
    "import seaborn as sns\n",
    "\n",
    "# Confusion matrix for binary classification, rename the classes accordingly\n",
    "cm = confusion_matrix(y_test, y_pred)\n",
    "cm = pd.DataFrame(cm, index=['Negative', 'Positive'], columns=['Negative', 'Positive'])\n",
    "# Make it into percentage\n",
    "sns.heatmap(cm, annot=True, fmt='d', cmap='Blues');"
   ]
  },
  {
   "attachments": {},
   "cell_type": "markdown",
   "metadata": {},
   "source": [
    "## Build and Train Bidirectional LSTM model"
   ]
  },
  {
   "cell_type": "code",
   "execution_count": 36,
   "metadata": {},
   "outputs": [
    {
     "name": "stdout",
     "output_type": "stream",
     "text": [
      "Model: \"sequential_2\"\n",
      "_________________________________________________________________\n",
      " Layer (type)                Output Shape              Param #   \n",
      "=================================================================\n",
      " embedding_2 (Embedding)     (None, 50, 300)           4154400   \n",
      "                                                                 \n",
      " bidirectional (Bidirectiona  (None, 50, 256)          439296    \n",
      " l)                                                              \n",
      "                                                                 \n",
      " dropout_2 (Dropout)         (None, 50, 256)           0         \n",
      "                                                                 \n",
      " bidirectional_1 (Bidirectio  (None, 50, 128)          164352    \n",
      " nal)                                                            \n",
      "                                                                 \n",
      " dropout_3 (Dropout)         (None, 50, 128)           0         \n",
      "                                                                 \n",
      " bidirectional_2 (Bidirectio  (None, 64)               41216     \n",
      " nal)                                                            \n",
      "                                                                 \n",
      " dropout_4 (Dropout)         (None, 64)                0         \n",
      "                                                                 \n",
      " dense_2 (Dense)             (None, 1)                 65        \n",
      "                                                                 \n",
      "=================================================================\n",
      "Total params: 4,799,329\n",
      "Trainable params: 4,799,329\n",
      "Non-trainable params: 0\n",
      "_________________________________________________________________\n"
     ]
    }
   ],
   "source": [
    "from tensorflow.keras.layers import Bidirectional\n",
    "\n",
    "# Define the model architecture\n",
    "model_bilstm = Sequential()\n",
    "model_bilstm.add(Embedding(input_dim=vocab_size, output_dim=embedding_dim, weights=[embedding_matrix], input_length=max_seq_len, trainable=True))\n",
    "model_bilstm.add(Bidirectional(LSTM(units=128, dropout=0.2, recurrent_dropout=0.2, return_sequences=True)))\n",
    "model_bilstm.add(Dropout(0.3))\n",
    "model_bilstm.add(Bidirectional(LSTM(units=64, dropout=0.2, recurrent_dropout=0.2, return_sequences=True)))\n",
    "model_bilstm.add(Dropout(0.3))\n",
    "model_bilstm.add(Bidirectional(LSTM(units=32, dropout=0.2, recurrent_dropout=0.2)))\n",
    "model_bilstm.add(Dropout(0.3))\n",
    "\n",
    "# Output layer for binary classification\n",
    "model_bilstm.add(Dense(1, activation='sigmoid'))\n",
    "\n",
    "# Compile the model\n",
    "model_bilstm.compile(optimizer='adam', loss='binary_crossentropy', metrics=['accuracy'])\n",
    "\n",
    "model_bilstm.summary()"
   ]
  },
  {
   "cell_type": "code",
   "execution_count": 37,
   "metadata": {},
   "outputs": [
    {
     "name": "stdout",
     "output_type": "stream",
     "text": [
      "Epoch 1/10\n",
      "115/115 [==============================] - 68s 410ms/step - loss: 0.6726 - accuracy: 0.5783 - val_loss: 0.5785 - val_accuracy: 0.6908\n",
      "Epoch 2/10\n",
      "115/115 [==============================] - 51s 447ms/step - loss: 0.5655 - accuracy: 0.7077 - val_loss: 0.5667 - val_accuracy: 0.7118\n",
      "Epoch 3/10\n",
      "115/115 [==============================] - 54s 467ms/step - loss: 0.4499 - accuracy: 0.8040 - val_loss: 0.5930 - val_accuracy: 0.7328\n",
      "Epoch 4/10\n",
      "115/115 [==============================] - 51s 446ms/step - loss: 0.3639 - accuracy: 0.8491 - val_loss: 0.6544 - val_accuracy: 0.7424\n",
      "Epoch 5/10\n",
      "115/115 [==============================] - 41s 357ms/step - loss: 0.3110 - accuracy: 0.8715 - val_loss: 0.6531 - val_accuracy: 0.7328\n"
     ]
    },
    {
     "data": {
      "text/plain": [
       "<keras.callbacks.History at 0x7f80244bc400>"
      ]
     },
     "execution_count": 37,
     "metadata": {},
     "output_type": "execute_result"
    }
   ],
   "source": [
    "# Fit the model to the training data\n",
    "model_bilstm.fit(X_train_seq, y_train, epochs=10, batch_size=32, validation_data=(X_val_seq, y_val), callbacks=[early_stopping])"
   ]
  },
  {
   "cell_type": "code",
   "execution_count": 38,
   "metadata": {},
   "outputs": [
    {
     "name": "stdout",
     "output_type": "stream",
     "text": [
      "33/33 [==============================] - 2s 64ms/step - loss: 0.6542 - accuracy: 0.7268\n",
      "Test accuracy: 0.7268385887145996\n"
     ]
    }
   ],
   "source": [
    "# Test model\n",
    "test_loss, test_acc = model_bilstm.evaluate(X_test_seq, y_test)\n",
    "print('Test accuracy:', test_acc)"
   ]
  },
  {
   "cell_type": "code",
   "execution_count": 39,
   "metadata": {},
   "outputs": [
    {
     "name": "stdout",
     "output_type": "stream",
     "text": [
      "33/33 [==============================] - 3s 61ms/step\n",
      "              precision    recall  f1-score   support\n",
      "\n",
      "           0       0.73      0.77      0.75       562\n",
      "           1       0.72      0.68      0.70       485\n",
      "\n",
      "    accuracy                           0.73      1047\n",
      "   macro avg       0.73      0.72      0.72      1047\n",
      "weighted avg       0.73      0.73      0.73      1047\n",
      "\n"
     ]
    }
   ],
   "source": [
    "# Print classification report for binary classification\n",
    "y_pred = model_bilstm.predict(X_test_seq)\n",
    "y_pred = np.round(y_pred).astype(int)\n",
    "print(classification_report(y_test, y_pred))"
   ]
  },
  {
   "cell_type": "code",
   "execution_count": 40,
   "metadata": {},
   "outputs": [
    {
     "data": {
      "image/png": "[encoded data removed]",
      "text/plain": [
       "<Figure size 640x480 with 2 Axes>"
      ]
     },
     "metadata": {},
     "output_type": "display_data"
    }
   ],
   "source": [
    "# Confusion matrix for binary classification, rename the classes accordingly\n",
    "cm = confusion_matrix(y_test, y_pred)\n",
    "cm = pd.DataFrame(cm, index=['Negative', 'Positive'], columns=['Negative', 'Positive'])\n",
    "# Make it into percentage\n",
    "sns.heatmap(cm, annot=True, fmt='d', cmap='Blues');"
   ]
  },
  {
   "attachments": {},
   "cell_type": "markdown",
   "metadata": {},
   "source": [
    "## Build and Train CNN + LSTM Model"
   ]
  },
  {
   "cell_type": "code",
   "execution_count": 42,
   "metadata": {},
   "outputs": [
    {
     "name": "stdout",
     "output_type": "stream",
     "text": [
      "Model: \"sequential_4\"\n",
      "_________________________________________________________________\n",
      " Layer (type)                Output Shape              Param #   \n",
      "=================================================================\n",
      " embedding_4 (Embedding)     (None, 50, 300)           4154400   \n",
      "                                                                 \n",
      " dropout_5 (Dropout)         (None, 50, 300)           0         \n",
      "                                                                 \n",
      " conv1d (Conv1D)             (None, 50, 80)            24080     \n",
      "                                                                 \n",
      " conv1d_1 (Conv1D)           (None, 49, 80)            12880     \n",
      "                                                                 \n",
      " conv1d_2 (Conv1D)           (None, 47, 80)            19280     \n",
      "                                                                 \n",
      " max_pooling1d (MaxPooling1D  (None, 23, 80)           0         \n",
      " )                                                               \n",
      "                                                                 \n",
      " lstm_7 (LSTM)               (None, 23, 128)           107008    \n",
      "                                                                 \n",
      " flatten (Flatten)           (None, 2944)              0         \n",
      "                                                                 \n",
      " dense_3 (Dense)             (None, 80)                235600    \n",
      "                                                                 \n",
      " dropout_6 (Dropout)         (None, 80)                0         \n",
      "                                                                 \n",
      " dense_4 (Dense)             (None, 1)                 81        \n",
      "                                                                 \n",
      "=================================================================\n",
      "Total params: 4,553,329\n",
      "Trainable params: 4,553,329\n",
      "Non-trainable params: 0\n",
      "_________________________________________________________________\n"
     ]
    },
    {
     "name": "stderr",
     "output_type": "stream",
     "text": [
      "2023-05-13 10:48:40.631394: I tensorflow/core/common_runtime/executor.cc:1197] [/device:CPU:0] (DEBUG INFO) Executor start aborting (this does not indicate an error and you can ignore this message): INVALID_ARGUMENT: You must feed a value for placeholder tensor 'gradients/split_2_grad/concat/split_2/split_dim' with dtype int32\n",
      "\t [[{{node gradients/split_2_grad/concat/split_2/split_dim}}]]\n",
      "2023-05-13 10:48:40.641849: I tensorflow/core/common_runtime/executor.cc:1197] [/device:CPU:0] (DEBUG INFO) Executor start aborting (this does not indicate an error and you can ignore this message): INVALID_ARGUMENT: You must feed a value for placeholder tensor 'gradients/split_grad/concat/split/split_dim' with dtype int32\n",
      "\t [[{{node gradients/split_grad/concat/split/split_dim}}]]\n",
      "2023-05-13 10:48:40.644658: I tensorflow/core/common_runtime/executor.cc:1197] [/device:CPU:0] (DEBUG INFO) Executor start aborting (this does not indicate an error and you can ignore this message): INVALID_ARGUMENT: You must feed a value for placeholder tensor 'gradients/split_1_grad/concat/split_1/split_dim' with dtype int32\n",
      "\t [[{{node gradients/split_1_grad/concat/split_1/split_dim}}]]\n"
     ]
    }
   ],
   "source": [
    "from keras.models import Sequential\n",
    "from keras.layers import Dense, Dropout, Activation, Embedding, LSTM, Conv1D, MaxPooling1D, Flatten\n",
    "from keras.optimizers import Adam\n",
    "from tensorflow.keras.regularizers import l2\n",
    "\n",
    "# Define hyperparameters\n",
    "max_features = embedding_matrix.shape[0] # Maximum number of words in the vocabulary\n",
    "max_seq_len = 50  # Maximum length of input sequences\n",
    "embedding_dim = 300  # Size of word embeddings\n",
    "num_filters = 80  # Number of filters in each convolutional layer\n",
    "filter_sizes = [1, 2, 3]  # Sizes of filters in each convolutional layer\n",
    "lstm_units = 128  # Number of LSTM units\n",
    "dropout_rate = 0.3  # Dropout rate\n",
    "l2_coef = 0.1  # L2 regularization coefficient\n",
    "batch_size = 32  # Batch size\n",
    "epochs = 10  # Number of epochs\n",
    "\n",
    "# Define the model architecture\n",
    "model_cnn_lstm = Sequential()\n",
    "model_cnn_lstm.add(Embedding(input_dim=max_features, output_dim=embedding_dim, weights=[embedding_matrix], input_length=max_seq_len, trainable=True))\n",
    "model_cnn_lstm.add(Dropout(dropout_rate))\n",
    "model_cnn_lstm.add(Conv1D(num_filters, filter_sizes[0], padding='valid', activation='relu', strides=1))\n",
    "model_cnn_lstm.add(Conv1D(num_filters, filter_sizes[1], padding='valid', activation='relu', strides=1))\n",
    "model_cnn_lstm.add(Conv1D(num_filters, filter_sizes[2], padding='valid', activation='relu', strides=1))\n",
    "model_cnn_lstm.add(MaxPooling1D(pool_size=2))\n",
    "model_cnn_lstm.add(LSTM(lstm_units, return_sequences=True))\n",
    "model_cnn_lstm.add(Flatten())\n",
    "model_cnn_lstm.add(Dense(num_filters, activation='relu', kernel_regularizer=l2(l2_coef)))\n",
    "model_cnn_lstm.add(Dropout(dropout_rate))\n",
    "\n",
    "# Output layer for binary classification\n",
    "model_cnn_lstm.add(Dense(1, activation='sigmoid'))\n",
    "\n",
    "# Compile the model\n",
    "optimizer = Adam()\n",
    "model_cnn_lstm.compile(optimizer=optimizer, loss='binary_crossentropy', metrics=['accuracy'])\n",
    "\n",
    "model_cnn_lstm.summary()"
   ]
  },
  {
   "cell_type": "code",
   "execution_count": 43,
   "metadata": {},
   "outputs": [
    {
     "name": "stdout",
     "output_type": "stream",
     "text": [
      "Epoch 1/10\n"
     ]
    },
    {
     "name": "stderr",
     "output_type": "stream",
     "text": [
      "2023-05-13 10:49:00.451480: I tensorflow/core/common_runtime/executor.cc:1197] [/device:CPU:0] (DEBUG INFO) Executor start aborting (this does not indicate an error and you can ignore this message): INVALID_ARGUMENT: You must feed a value for placeholder tensor 'gradients/split_2_grad/concat/split_2/split_dim' with dtype int32\n",
      "\t [[{{node gradients/split_2_grad/concat/split_2/split_dim}}]]\n",
      "2023-05-13 10:49:00.457131: I tensorflow/core/common_runtime/executor.cc:1197] [/device:CPU:0] (DEBUG INFO) Executor start aborting (this does not indicate an error and you can ignore this message): INVALID_ARGUMENT: You must feed a value for placeholder tensor 'gradients/split_grad/concat/split/split_dim' with dtype int32\n",
      "\t [[{{node gradients/split_grad/concat/split/split_dim}}]]\n",
      "2023-05-13 10:49:00.466088: I tensorflow/core/common_runtime/executor.cc:1197] [/device:CPU:0] (DEBUG INFO) Executor start aborting (this does not indicate an error and you can ignore this message): INVALID_ARGUMENT: You must feed a value for placeholder tensor 'gradients/split_1_grad/concat/split_1/split_dim' with dtype int32\n",
      "\t [[{{node gradients/split_1_grad/concat/split_1/split_dim}}]]\n",
      "2023-05-13 10:49:02.264063: I tensorflow/core/common_runtime/executor.cc:1197] [/device:CPU:0] (DEBUG INFO) Executor start aborting (this does not indicate an error and you can ignore this message): INVALID_ARGUMENT: You must feed a value for placeholder tensor 'gradients/split_2_grad/concat/split_2/split_dim' with dtype int32\n",
      "\t [[{{node gradients/split_2_grad/concat/split_2/split_dim}}]]\n",
      "2023-05-13 10:49:02.266974: I tensorflow/core/common_runtime/executor.cc:1197] [/device:CPU:0] (DEBUG INFO) Executor start aborting (this does not indicate an error and you can ignore this message): INVALID_ARGUMENT: You must feed a value for placeholder tensor 'gradients/split_grad/concat/split/split_dim' with dtype int32\n",
      "\t [[{{node gradients/split_grad/concat/split/split_dim}}]]\n",
      "2023-05-13 10:49:02.270757: I tensorflow/core/common_runtime/executor.cc:1197] [/device:CPU:0] (DEBUG INFO) Executor start aborting (this does not indicate an error and you can ignore this message): INVALID_ARGUMENT: You must feed a value for placeholder tensor 'gradients/split_1_grad/concat/split_1/split_dim' with dtype int32\n",
      "\t [[{{node gradients/split_1_grad/concat/split_1/split_dim}}]]\n"
     ]
    },
    {
     "name": "stdout",
     "output_type": "stream",
     "text": [
      "115/115 [==============================] - ETA: 0s - loss: 2.5035 - accuracy: 0.5333"
     ]
    },
    {
     "name": "stderr",
     "output_type": "stream",
     "text": [
      "2023-05-13 10:49:12.386360: I tensorflow/core/common_runtime/executor.cc:1197] [/device:CPU:0] (DEBUG INFO) Executor start aborting (this does not indicate an error and you can ignore this message): INVALID_ARGUMENT: You must feed a value for placeholder tensor 'gradients/split_2_grad/concat/split_2/split_dim' with dtype int32\n",
      "\t [[{{node gradients/split_2_grad/concat/split_2/split_dim}}]]\n",
      "2023-05-13 10:49:12.388382: I tensorflow/core/common_runtime/executor.cc:1197] [/device:CPU:0] (DEBUG INFO) Executor start aborting (this does not indicate an error and you can ignore this message): INVALID_ARGUMENT: You must feed a value for placeholder tensor 'gradients/split_grad/concat/split/split_dim' with dtype int32\n",
      "\t [[{{node gradients/split_grad/concat/split/split_dim}}]]\n",
      "2023-05-13 10:49:12.390115: I tensorflow/core/common_runtime/executor.cc:1197] [/device:CPU:0] (DEBUG INFO) Executor start aborting (this does not indicate an error and you can ignore this message): INVALID_ARGUMENT: You must feed a value for placeholder tensor 'gradients/split_1_grad/concat/split_1/split_dim' with dtype int32\n",
      "\t [[{{node gradients/split_1_grad/concat/split_1/split_dim}}]]\n"
     ]
    },
    {
     "name": "stdout",
     "output_type": "stream",
     "text": [
      "115/115 [==============================] - 13s 72ms/step - loss: 2.5035 - accuracy: 0.5333 - val_loss: 0.6989 - val_accuracy: 0.5840\n",
      "Epoch 2/10\n",
      "115/115 [==============================] - 7s 65ms/step - loss: 0.6917 - accuracy: 0.5852 - val_loss: 0.6923 - val_accuracy: 0.5668\n",
      "Epoch 3/10\n",
      "115/115 [==============================] - 8s 66ms/step - loss: 0.6597 - accuracy: 0.6539 - val_loss: 0.6401 - val_accuracy: 0.6660\n",
      "Epoch 4/10\n",
      "115/115 [==============================] - 7s 63ms/step - loss: 0.6234 - accuracy: 0.6870 - val_loss: 0.6267 - val_accuracy: 0.6737\n",
      "Epoch 5/10\n",
      "115/115 [==============================] - 7s 64ms/step - loss: 0.5980 - accuracy: 0.7213 - val_loss: 0.6098 - val_accuracy: 0.6870\n",
      "Epoch 6/10\n",
      "115/115 [==============================] - 7s 64ms/step - loss: 0.5574 - accuracy: 0.7486 - val_loss: 0.6277 - val_accuracy: 0.7099\n",
      "Epoch 7/10\n",
      "115/115 [==============================] - 8s 66ms/step - loss: 0.5151 - accuracy: 0.7806 - val_loss: 0.5932 - val_accuracy: 0.7347\n",
      "Epoch 8/10\n",
      "115/115 [==============================] - 7s 64ms/step - loss: 0.4754 - accuracy: 0.8084 - val_loss: 0.6003 - val_accuracy: 0.7004\n",
      "Epoch 9/10\n",
      "115/115 [==============================] - 7s 64ms/step - loss: 0.4490 - accuracy: 0.8248 - val_loss: 0.6471 - val_accuracy: 0.6927\n",
      "Epoch 10/10\n",
      "115/115 [==============================] - 8s 66ms/step - loss: 0.4097 - accuracy: 0.8376 - val_loss: 0.6549 - val_accuracy: 0.7004\n"
     ]
    },
    {
     "data": {
      "text/plain": [
       "<keras.callbacks.History at 0x7f80031e6230>"
      ]
     },
     "execution_count": 43,
     "metadata": {},
     "output_type": "execute_result"
    }
   ],
   "source": [
    "# Train model\n",
    "\n",
    "model_cnn_lstm.fit(X_train_seq, y_train, epochs=epochs, batch_size=batch_size, validation_data=(X_val_seq, y_val), callbacks=[early_stopping])"
   ]
  },
  {
   "cell_type": "code",
   "execution_count": 44,
   "metadata": {},
   "outputs": [
    {
     "name": "stdout",
     "output_type": "stream",
     "text": [
      "33/33 [==============================] - 0s 13ms/step - loss: 0.6730 - accuracy: 0.7106\n",
      "Test accuracy: 0.7106017470359802\n"
     ]
    }
   ],
   "source": [
    "# Test model\n",
    "test_loss, test_acc = model_cnn_lstm.evaluate(X_test_seq, y_test)\n",
    "print('Test accuracy:', test_acc)"
   ]
  },
  {
   "cell_type": "code",
   "execution_count": 45,
   "metadata": {},
   "outputs": [
    {
     "name": "stderr",
     "output_type": "stream",
     "text": [
      "2023-05-13 10:50:30.579694: I tensorflow/core/common_runtime/executor.cc:1197] [/device:CPU:0] (DEBUG INFO) Executor start aborting (this does not indicate an error and you can ignore this message): INVALID_ARGUMENT: You must feed a value for placeholder tensor 'gradients/split_2_grad/concat/split_2/split_dim' with dtype int32\n",
      "\t [[{{node gradients/split_2_grad/concat/split_2/split_dim}}]]\n",
      "2023-05-13 10:50:30.581471: I tensorflow/core/common_runtime/executor.cc:1197] [/device:CPU:0] (DEBUG INFO) Executor start aborting (this does not indicate an error and you can ignore this message): INVALID_ARGUMENT: You must feed a value for placeholder tensor 'gradients/split_grad/concat/split/split_dim' with dtype int32\n",
      "\t [[{{node gradients/split_grad/concat/split/split_dim}}]]\n",
      "2023-05-13 10:50:30.584039: I tensorflow/core/common_runtime/executor.cc:1197] [/device:CPU:0] (DEBUG INFO) Executor start aborting (this does not indicate an error and you can ignore this message): INVALID_ARGUMENT: You must feed a value for placeholder tensor 'gradients/split_1_grad/concat/split_1/split_dim' with dtype int32\n",
      "\t [[{{node gradients/split_1_grad/concat/split_1/split_dim}}]]\n"
     ]
    },
    {
     "name": "stdout",
     "output_type": "stream",
     "text": [
      "33/33 [==============================] - 1s 15ms/step\n",
      "              precision    recall  f1-score   support\n",
      "\n",
      "           0       0.70      0.79      0.75       562\n",
      "           1       0.72      0.61      0.66       485\n",
      "\n",
      "    accuracy                           0.71      1047\n",
      "   macro avg       0.71      0.70      0.70      1047\n",
      "weighted avg       0.71      0.71      0.71      1047\n",
      "\n"
     ]
    }
   ],
   "source": [
    "# Print classification report for binary classification\n",
    "y_pred = model_cnn_lstm.predict(X_test_seq)\n",
    "y_pred = np.where(y_pred > 0.5, 1, 0)\n",
    "print(classification_report(y_test, y_pred))"
   ]
  },
  {
   "cell_type": "code",
   "execution_count": 46,
   "metadata": {},
   "outputs": [
    {
     "data": {
      "text/plain": [
       "<Axes: >"
      ]
     },
     "execution_count": 46,
     "metadata": {},
     "output_type": "execute_result"
    },
    {
     "data": {
      "image/png": "[encoded data removed]",
      "text/plain": [
       "<Figure size 640x480 with 2 Axes>"
      ]
     },
     "metadata": {},
     "output_type": "display_data"
    }
   ],
   "source": [
    "# plot confusion matrix\n",
    "\n",
    "cm = confusion_matrix(y_test, y_pred)\n",
    "cm = cm.astype('float') / cm.sum(axis=1)[:, np.newaxis]\n",
    "sns.heatmap(cm, annot=True, cmap='Blues')"
   ]
  },
  {
   "attachments": {},
   "cell_type": "markdown",
   "metadata": {},
   "source": [
    "## Build and Train CNN Model"
   ]
  },
  {
   "cell_type": "code",
   "execution_count": 49,
   "metadata": {},
   "outputs": [
    {
     "name": "stdout",
     "output_type": "stream",
     "text": [
      "Model: \"sequential_6\"\n",
      "_________________________________________________________________\n",
      " Layer (type)                Output Shape              Param #   \n",
      "=================================================================\n",
      " embedding_6 (Embedding)     (None, 50, 300)           4154400   \n",
      "                                                                 \n",
      " conv1d_5 (Conv1D)           (None, 48, 32)            28832     \n",
      "                                                                 \n",
      " conv1d_6 (Conv1D)           (None, 44, 64)            10304     \n",
      "                                                                 \n",
      " global_max_pooling1d_1 (Glo  (None, 64)               0         \n",
      " balMaxPooling1D)                                                \n",
      "                                                                 \n",
      " dense_8 (Dense)             (None, 128)               8320      \n",
      "                                                                 \n",
      " dense_9 (Dense)             (None, 64)                8256      \n",
      "                                                                 \n",
      " dropout_8 (Dropout)         (None, 64)                0         \n",
      "                                                                 \n",
      " dense_10 (Dense)            (None, 1)                 65        \n",
      "                                                                 \n",
      "=================================================================\n",
      "Total params: 4,210,177\n",
      "Trainable params: 4,210,177\n",
      "Non-trainable params: 0\n",
      "_________________________________________________________________\n"
     ]
    }
   ],
   "source": [
    "from keras.models import Sequential\n",
    "from keras.layers import Dense, Embedding, Conv1D, GlobalMaxPooling1D, Dropout\n",
    "from keras.optimizers import Adamax\n",
    "from keras.regularizers import l2\n",
    "from keras.callbacks import EarlyStopping\n",
    "from sklearn.utils import class_weight\n",
    "\n",
    "# Create CNN model\n",
    "model_cnn = Sequential()\n",
    "\n",
    "# Add trainable embedding layer\n",
    "model_cnn.add(Embedding(input_dim=vocab_size, output_dim=embedding_dim, weights=[embedding_matrix], input_length=50, trainable=True))\n",
    "\n",
    "# Add two convolutional layers with increasing filters and kernel sizes\n",
    "model_cnn.add(Conv1D(filters=32, kernel_size=3, activation='relu'))\n",
    "model_cnn.add(Conv1D(filters=64, kernel_size=5, activation='relu'))\n",
    "\n",
    "# Add global max pooling layer\n",
    "model_cnn.add(GlobalMaxPooling1D())\n",
    "\n",
    "# Add two dense layers with ReLU activation and L2 regularization\n",
    "model_cnn.add(Dense(units=128, activation='relu', kernel_regularizer=l2(0.01)))\n",
    "model_cnn.add(Dense(units=64, activation='relu', kernel_regularizer=l2(0.01)))\n",
    "\n",
    "# Add dropout layer with a rate of 0.5\n",
    "model_cnn.add(Dropout(0.5))\n",
    "\n",
    "# Add output layer with 3 units and softmax activation for multi-class classification\n",
    "model_cnn.add(Dense(units=1, activation='sigmoid'))\n",
    "\n",
    "# Compile the model with categorical cross-entropy loss, Adamax optimizer and accuracy metric\n",
    "optimizer = Adam(learning_rate=0.001)\n",
    "model_cnn.compile(loss='binary_crossentropy', optimizer=optimizer, metrics=['accuracy'])\n",
    "\n",
    "# Define class weights for imbalanced dataset\n",
    "# class_weights = class_weight.compute_class_weight(class_weight='balanced', classes=np.unique(y_train))\n",
    "\n",
    "# Add early stopping to prevent overfitting\n",
    "early_stopping = EarlyStopping(monitor='val_loss', patience=3, mode='min')\n",
    "\n",
    "model_cnn.summary()"
   ]
  },
  {
   "cell_type": "code",
   "execution_count": 50,
   "metadata": {},
   "outputs": [
    {
     "name": "stdout",
     "output_type": "stream",
     "text": [
      "Epoch 1/20\n",
      "115/115 [==============================] - 7s 44ms/step - loss: 2.0161 - accuracy: 0.5355 - val_loss: 1.6214 - val_accuracy: 0.5878\n",
      "Epoch 2/20\n",
      "115/115 [==============================] - 5s 45ms/step - loss: 1.4090 - accuracy: 0.6348 - val_loss: 1.3001 - val_accuracy: 0.5935\n",
      "Epoch 3/20\n",
      "115/115 [==============================] - 4s 37ms/step - loss: 1.0958 - accuracy: 0.7211 - val_loss: 1.1615 - val_accuracy: 0.6202\n",
      "Epoch 4/20\n",
      "115/115 [==============================] - 4s 38ms/step - loss: 0.8330 - accuracy: 0.8098 - val_loss: 1.1227 - val_accuracy: 0.6279\n",
      "Epoch 5/20\n",
      "115/115 [==============================] - 5s 40ms/step - loss: 0.6182 - accuracy: 0.8810 - val_loss: 1.3653 - val_accuracy: 0.6164\n",
      "Epoch 6/20\n",
      "115/115 [==============================] - 4s 38ms/step - loss: 0.4908 - accuracy: 0.9159 - val_loss: 1.3321 - val_accuracy: 0.6031\n",
      "Epoch 7/20\n",
      "115/115 [==============================] - 4s 37ms/step - loss: 0.3590 - accuracy: 0.9454 - val_loss: 1.3480 - val_accuracy: 0.6298\n"
     ]
    },
    {
     "data": {
      "text/plain": [
       "<keras.callbacks.History at 0x7f8003ec1210>"
      ]
     },
     "execution_count": 50,
     "metadata": {},
     "output_type": "execute_result"
    }
   ],
   "source": [
    "# Train the model with class weights and early stopping\n",
    "model_cnn.fit(X_train_seq, y_train, epochs=20, batch_size=32, validation_data=(X_val_seq, y_val), callbacks=[early_stopping])"
   ]
  },
  {
   "cell_type": "code",
   "execution_count": 51,
   "metadata": {},
   "outputs": [
    {
     "name": "stdout",
     "output_type": "stream",
     "text": [
      "33/33 [==============================] - 0s 5ms/step - loss: 1.2831 - accuracy: 0.6351\n",
      "Test accuracy: 0.6351480484008789\n"
     ]
    }
   ],
   "source": [
    "# Test model\n",
    "test_loss, test_acc = model_cnn.evaluate(X_test_seq, y_test)\n",
    "print('Test accuracy:', test_acc)"
   ]
  },
  {
   "cell_type": "code",
   "execution_count": 52,
   "metadata": {},
   "outputs": [
    {
     "data": {
      "image/png": "[encoded data removed]",
      "text/plain": [
       "<Figure size 640x480 with 2 Axes>"
      ]
     },
     "metadata": {},
     "output_type": "display_data"
    }
   ],
   "source": [
    "# Confusion matrix for binary classification, rename the classes accordingly\n",
    "cm = confusion_matrix(y_test, y_pred)\n",
    "cm = pd.DataFrame(cm, index=['Negative', 'Positive'], columns=['Negative', 'Positive'])\n",
    "# Make it into percentage\n",
    "sns.heatmap(cm, annot=True, fmt='d', cmap='Blues');"
   ]
  }
 ],
 "metadata": {
  "kernelspec": {
   "display_name": ".venv",
   "language": "python",
   "name": "python3"
  },
  "language_info": {
   "codemirror_mode": {
    "name": "ipython",
    "version": 3
   },
   "file_extension": ".py",
   "mimetype": "text/x-python",
   "name": "python",
   "nbconvert_exporter": "python",
   "pygments_lexer": "ipython3",
   "version": "3.10.6"
  },
  "orig_nbformat": 4
 },
 "nbformat": 4,
 "nbformat_minor": 2
}
